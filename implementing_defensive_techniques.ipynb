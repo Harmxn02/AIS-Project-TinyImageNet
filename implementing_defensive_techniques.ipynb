{
 "cells": [
  {
   "cell_type": "markdown",
   "metadata": {},
   "source": [
    "# AI & Security Project\n",
    "\n",
    "**implementing_defensive_techniques.ipynb**: in this notebook we explore several defensive techniques, to make our model less prone to attacks.\n"
   ]
  },
  {
   "cell_type": "code",
   "execution_count": 1,
   "metadata": {},
   "outputs": [],
   "source": [
    "import os\n",
    "import json\n",
    "import numpy as np\n",
    "import torch\n",
    "import torchvision\n",
    "from torchvision import transforms\n",
    "from torch.utils import data\n",
    "from tqdm.notebook import tqdm"
   ]
  },
  {
   "cell_type": "markdown",
   "metadata": {},
   "source": [
    "## Step 0: Configurations\n"
   ]
  },
  {
   "cell_type": "code",
   "execution_count": 2,
   "metadata": {},
   "outputs": [],
   "source": [
    "# Define constants\n",
    "DATASET_PATH = r\"./data/TinyImageNet-sad/\"  # Adjust this to the correct path where the dataset is stored\n",
    "CHECKPOINT_PATH = r\"./models/\"\n",
    "NORM_MEAN = np.array([0.485, 0.456, 0.406])\n",
    "NORM_STD = np.array([0.229, 0.224, 0.225])\n",
    "device = torch.device(\"cuda:0\" if torch.cuda.is_available() else \"cpu\")\n",
    "\n",
    "# Define transformations\n",
    "plain_transforms = transforms.Compose(\n",
    "    [transforms.ToTensor(), transforms.Normalize(mean=NORM_MEAN, std=NORM_STD)]\n",
    ")\n",
    "\n",
    "# Construct the path to the dataset\n",
    "imagenet_path = os.path.join(DATASET_PATH, \"TinyImageNet\")\n",
    "assert os.path.isdir(imagenet_path), (\n",
    "    f'Could not find the ImageNet dataset at the expected path: \"{imagenet_path}\". '\n",
    "    \"Please make sure the dataset is downloaded and the path is correct.\"\n",
    ")"
   ]
  },
  {
   "cell_type": "markdown",
   "metadata": {},
   "source": [
    "## Step 1: dataset and libraries\n"
   ]
  },
  {
   "cell_type": "code",
   "execution_count": 3,
   "metadata": {},
   "outputs": [],
   "source": [
    "# Load the dataset\n",
    "dataset = torchvision.datasets.ImageFolder(\n",
    "    root=imagenet_path, transform=plain_transforms\n",
    ")\n",
    "data_loader = data.DataLoader(\n",
    "    dataset, batch_size=32, shuffle=False, drop_last=False, num_workers=8\n",
    ")"
   ]
  },
  {
   "cell_type": "code",
   "execution_count": 4,
   "metadata": {},
   "outputs": [],
   "source": [
    "# Load label names\n",
    "label_list_path = os.path.join(imagenet_path, \"label_list.json\")\n",
    "assert os.path.isfile(\n",
    "    label_list_path\n",
    "), f'Label list file not found at \"{label_list_path}\".'\n",
    "\n",
    "with open(label_list_path, \"r\") as f:\n",
    "    label_names = json.load(f)"
   ]
  },
  {
   "cell_type": "markdown",
   "metadata": {},
   "source": [
    "## Step 2: model functions"
   ]
  },
  {
   "cell_type": "markdown",
   "metadata": {},
   "source": [
    "### Utility"
   ]
  },
  {
   "cell_type": "code",
   "execution_count": 5,
   "metadata": {},
   "outputs": [],
   "source": [
    "def load_model(model_func, trainable=False):\n",
    "    \"\"\"Load a pretrained model given its name.\"\"\"\n",
    "    model = model_func()\n",
    "    model = model.to(device) # Ensure the model is on the correct device\n",
    "    model.eval()\n",
    "\n",
    "    # Control gradient computation\n",
    "    for p in model.parameters():\n",
    "        p.requires_grad = trainable\n",
    "\n",
    "    return model\n",
    "\n",
    "\n",
    "def eval_model(dataset_loader, model, img_func=None):\n",
    "    \"\"\"Evaluate the model on the given dataset loader.\"\"\"\n",
    "    tp, tp_5, counter = 0.0, 0.0, 0.0\n",
    "    for imgs, labels in tqdm(dataset_loader, desc=\"Validating...\", leave=False):\n",
    "        imgs = imgs.to(device)\n",
    "        labels = labels.to(device)\n",
    "        if img_func is not None:\n",
    "            imgs = img_func(imgs, labels)\n",
    "        with torch.no_grad():\n",
    "            preds = model(imgs)\n",
    "        tp += (preds.argmax(dim=-1) == labels).sum()\n",
    "        tp_5 += (preds.topk(5, dim=-1)[1] == labels[..., None]).any(dim=-1).sum()\n",
    "        counter += preds.shape[0]\n",
    "    acc = tp.float().item() / counter\n",
    "    top5 = tp_5.float().item() / counter\n",
    "    print(f\"\\tTop-1 error: {(100.0 * (1 - acc)):4.2f}%\")\n",
    "    print(f\"\\tTop-5 error: {(100.0 * (1 - top5)):4.2f}%\")\n",
    "    return acc, top5"
   ]
  },
  {
   "cell_type": "markdown",
   "metadata": {},
   "source": [
    "### FGSM Attack"
   ]
  },
  {
   "cell_type": "code",
   "execution_count": 6,
   "metadata": {},
   "outputs": [],
   "source": [
    "# Define FGSM attack\n",
    "def fgsm_attack(images, labels, model, epsilon):\n",
    "    images.requires_grad = True\n",
    "    outputs = model(images)\n",
    "    loss = torch.nn.CrossEntropyLoss()(outputs, labels)\n",
    "    model.zero_grad()\n",
    "    loss.backward()\n",
    "    perturbations = epsilon * images.grad.sign()\n",
    "    adv_images = images + perturbations\n",
    "    adv_images = torch.clamp(adv_images, 0, 1)  # Keep pixel values in range\n",
    "    return adv_images"
   ]
  },
  {
   "cell_type": "markdown",
   "metadata": {},
   "source": [
    "### PGD Attack"
   ]
  },
  {
   "cell_type": "code",
   "execution_count": 7,
   "metadata": {},
   "outputs": [],
   "source": [
    "# PGD Attack Implementation (Stronger Alternative to FGSM)\n",
    "def pgd_attack(images, labels, model, epsilon, alpha=0.01, num_iter=10):\n",
    "    adv_images = images.clone().detach().to(device)\n",
    "    adv_images.requires_grad = True\n",
    "    for _ in range(num_iter):\n",
    "        outputs = model(adv_images)\n",
    "        loss = torch.nn.CrossEntropyLoss()(outputs, labels)\n",
    "        model.zero_grad()\n",
    "        loss.backward()\n",
    "        grad = adv_images.grad.data\n",
    "        adv_images = adv_images + alpha * grad.sign()\n",
    "        perturbation = torch.clamp(adv_images - images, min=-epsilon, max=epsilon)\n",
    "        adv_images = torch.clamp(images + perturbation, min=0, max=1).detach()\n",
    "        adv_images.requires_grad = True\n",
    "    return adv_images\n"
   ]
  },
  {
   "cell_type": "markdown",
   "metadata": {},
   "source": [
    "### Carlini-Wagner (CW) Attack"
   ]
  },
  {
   "cell_type": "code",
   "execution_count": 8,
   "metadata": {},
   "outputs": [],
   "source": [
    "import torch\n",
    "import torch.nn.functional as F\n",
    "\n",
    "def cw_attack(images, labels, model, c=1e-4, kappa=0, num_iter=10, lr=0.01):\n",
    "    \"\"\"\n",
    "    Carlini-Wagner (CW) L2 attack.\n",
    "    \n",
    "    Args:\n",
    "        images: Input images (batch).\n",
    "        labels: True labels for the input images.\n",
    "        model: Target model.\n",
    "        c: Regularization constant for loss term.\n",
    "        kappa: Confidence value (controls the attack strength).\n",
    "        num_iter: Number of iterations for optimization.\n",
    "        lr: Learning rate for optimization.\n",
    "        \n",
    "    Returns:\n",
    "        Adversarial examples.\n",
    "    \"\"\"\n",
    "    images = images.to(device)\n",
    "    labels = labels.to(device)\n",
    "    \n",
    "    # Initialize variables\n",
    "    adv_images = images.clone().detach()\n",
    "    adv_images.requires_grad = True  # To compute gradients\n",
    "\n",
    "    # Perturbation variable\n",
    "    delta = torch.zeros_like(images, requires_grad=True, device=device)\n",
    "\n",
    "    # Optimizer for the perturbation\n",
    "    optimizer = torch.optim.Adam([delta], lr=lr)\n",
    "\n",
    "    for _ in range(num_iter):\n",
    "        # Generate adversarial examples\n",
    "        adv_examples = torch.clamp(images + delta, min=0, max=1)\n",
    "\n",
    "        # Model predictions on adversarial examples\n",
    "        outputs = model(adv_examples)\n",
    "\n",
    "        # Compute the loss\n",
    "        target_onehot = F.one_hot(labels, num_classes=outputs.size(-1)).float()\n",
    "        real = (target_onehot * outputs).sum(dim=1)\n",
    "        other = ((1.0 - target_onehot) * outputs - target_onehot * 1e4).max(dim=1).values\n",
    "\n",
    "        # CW loss\n",
    "        cw_loss = torch.clamp(real - other + kappa, min=0).mean()\n",
    "        l2_loss = (delta ** 2).sum(dim=[1, 2, 3]).mean()\n",
    "        loss = l2_loss + c * cw_loss\n",
    "\n",
    "        # Update delta (perturbation)\n",
    "        optimizer.zero_grad()\n",
    "        loss.backward()\n",
    "        optimizer.step()\n",
    "\n",
    "    # Return adversarial examples\n",
    "    adv_images = torch.clamp(images + delta, min=0, max=1).detach()\n",
    "    return adv_images"
   ]
  },
  {
   "cell_type": "markdown",
   "metadata": {},
   "source": [
    "### Adversarial training"
   ]
  },
  {
   "cell_type": "code",
   "execution_count": 9,
   "metadata": {},
   "outputs": [],
   "source": [
    "# Define adversarial training\n",
    "def adversarial_training(model_func, train_loader, epsilon, EPOCHS=10):\n",
    "    model = model_func()\n",
    "    model = model.to(device)  # Ensure model is on the correct device\n",
    "    model.train()\n",
    "    optimizer = torch.optim.SGD(model.parameters(), lr=0.01, momentum=0.9)\n",
    "    loss_fn = torch.nn.CrossEntropyLoss()\n",
    "\n",
    "    for epoch in range(EPOCHS):\n",
    "        for imgs, labels in tqdm(train_loader, desc=f\"Adversarial Training (epoch={epoch+1}/{EPOCHS})\", leave=False):\n",
    "            imgs, labels = imgs.to(device), labels.to(device)\n",
    "            # Generate adversarial examples\n",
    "            adv_imgs = fgsm_attack(imgs, labels, model, epsilon)\n",
    "            # Combine clean and adversarial examples\n",
    "            combined_imgs = torch.cat([imgs, adv_imgs])\n",
    "            combined_labels = torch.cat([labels, labels])\n",
    "            # Train on combined examples\n",
    "            optimizer.zero_grad()\n",
    "            preds = model(combined_imgs)\n",
    "            loss = loss_fn(preds, combined_labels)\n",
    "            loss.backward()\n",
    "            optimizer.step()\n",
    "    return model"
   ]
  },
  {
   "cell_type": "markdown",
   "metadata": {},
   "source": [
    "## Step 3: Evaluate all models"
   ]
  },
  {
   "cell_type": "code",
   "execution_count": 10,
   "metadata": {},
   "outputs": [
    {
     "name": "stdout",
     "output_type": "stream",
     "text": [
      "Adversarial model loaded from: ./exports/models/ResNet18.pth\n",
      "\n",
      "Evaluating ResNet18 (No Attack):\n"
     ]
    },
    {
     "data": {
      "application/vnd.jupyter.widget-view+json": {
       "model_id": "123fdc2d540742b4bf54a14a7a4b7c53",
       "version_major": 2,
       "version_minor": 0
      },
      "text/plain": [
       "Validating...:   0%|          | 0/157 [00:00<?, ?it/s]"
      ]
     },
     "metadata": {},
     "output_type": "display_data"
    },
    {
     "name": "stdout",
     "output_type": "stream",
     "text": [
      "\tTop-1 error: 24.00%\n",
      "\tTop-5 error: 6.76%\n",
      "\n",
      "Evaluating ResNet18 (With FGSM Attack):\n"
     ]
    },
    {
     "data": {
      "application/vnd.jupyter.widget-view+json": {
       "model_id": "f885636ee1964c11880580b456ab5830",
       "version_major": 2,
       "version_minor": 0
      },
      "text/plain": [
       "Validating...:   0%|          | 0/157 [00:00<?, ?it/s]"
      ]
     },
     "metadata": {},
     "output_type": "display_data"
    },
    {
     "name": "stdout",
     "output_type": "stream",
     "text": [
      "\tTop-1 error: 84.86%\n",
      "\tTop-5 error: 66.16%\n",
      "\n",
      "Evaluating ResNet18 (With PGD Attack):\n"
     ]
    },
    {
     "data": {
      "application/vnd.jupyter.widget-view+json": {
       "model_id": "64fce959ce5f44ebabc3712fea44760b",
       "version_major": 2,
       "version_minor": 0
      },
      "text/plain": [
       "Validating...:   0%|          | 0/157 [00:00<?, ?it/s]"
      ]
     },
     "metadata": {},
     "output_type": "display_data"
    },
    {
     "name": "stdout",
     "output_type": "stream",
     "text": [
      "\tTop-1 error: 99.82%\n",
      "\tTop-5 error: 97.74%\n",
      "\n",
      "Evaluating ResNet18 (With CW Attack):\n"
     ]
    },
    {
     "data": {
      "application/vnd.jupyter.widget-view+json": {
       "model_id": "2fb67f1fc024476d8a34798de3dd4cf7",
       "version_major": 2,
       "version_minor": 0
      },
      "text/plain": [
       "Validating...:   0%|          | 0/157 [00:00<?, ?it/s]"
      ]
     },
     "metadata": {},
     "output_type": "display_data"
    },
    {
     "name": "stdout",
     "output_type": "stream",
     "text": [
      "\tTop-1 error: 88.96%\n",
      "\tTop-5 error: 56.12%\n",
      "\n",
      "Evaluating ResNet18 (With Defense against FGSM - Adversarial Training):\n"
     ]
    },
    {
     "data": {
      "application/vnd.jupyter.widget-view+json": {
       "model_id": "60e9ea0de79a48609368b3275619d280",
       "version_major": 2,
       "version_minor": 0
      },
      "text/plain": [
       "Validating...:   0%|          | 0/157 [00:00<?, ?it/s]"
      ]
     },
     "metadata": {},
     "output_type": "display_data"
    },
    {
     "name": "stdout",
     "output_type": "stream",
     "text": [
      "\tTop-1 error: 8.14%\n",
      "\tTop-5 error: 2.14%\n",
      "\n",
      "Evaluating ResNet18 (With Defense against PGD - Adversarial Training):\n"
     ]
    },
    {
     "data": {
      "application/vnd.jupyter.widget-view+json": {
       "model_id": "0f300910d7b941faab37ed43a1851d96",
       "version_major": 2,
       "version_minor": 0
      },
      "text/plain": [
       "Validating...:   0%|          | 0/157 [00:00<?, ?it/s]"
      ]
     },
     "metadata": {},
     "output_type": "display_data"
    },
    {
     "name": "stdout",
     "output_type": "stream",
     "text": [
      "\tTop-1 error: 43.68%\n",
      "\tTop-5 error: 20.32%\n",
      "\n",
      "Evaluating ResNet18 (With Defense against CW - Adversarial Training):\n"
     ]
    },
    {
     "data": {
      "application/vnd.jupyter.widget-view+json": {
       "model_id": "301a846981484c2aad3931e5a801315f",
       "version_major": 2,
       "version_minor": 0
      },
      "text/plain": [
       "Validating...:   0%|          | 0/157 [00:00<?, ?it/s]"
      ]
     },
     "metadata": {},
     "output_type": "display_data"
    },
    {
     "name": "stdout",
     "output_type": "stream",
     "text": [
      "\tTop-1 error: 4.56%\n",
      "\tTop-5 error: 0.80%\n",
      "\n",
      "------------------------------------------------------------------------------------\n",
      "\n",
      "Saved evaluation metrics to: ./exports/data/evaluation_metrics.csv\n"
     ]
    }
   ],
   "source": [
    "from torchvision import models\n",
    "from torchvision.models import ResNet18_Weights, ResNet50_Weights, ResNet152_Weights, VGG16_Weights, VGG19_Weights, RegNet_Y_128GF_Weights, ViT_H_14_Weights, ViT_L_16_Weights\n",
    "\n",
    "import csv\n",
    "import pandas as pd\n",
    "\n",
    "list_of_models = {\n",
    "    \"ResNet18\": lambda: models.resnet18(weights=ResNet18_Weights.DEFAULT),\n",
    "    # \"ResNet50\": lambda: models.resnet50(weights=ResNet50_Weights.DEFAULT),\n",
    "    # # \"ResNet152\": lambda: models.resnet152(weights=ResNet152_Weights.DEFAULT),\n",
    "    # # \"VGG16\": lambda: models.vgg16(weights=VGG16_Weights.DEFAULT),\n",
    "    # \"VGG19\": lambda: models.vgg19(weights=VGG19_Weights.DEFAULT),\n",
    "}\n",
    "\n",
    "evaluation_metrics = []\n",
    "\n",
    "\n",
    "# Evaluate all models\n",
    "epsilon = 0.03\n",
    "for model_name, model_func in list_of_models.items():\n",
    "    trained_model_path = f\"./exports/models/{model_name}.pth\"\n",
    "    \n",
    "    if not os.path.exists(trained_model_path):\n",
    "        # Train and save the adversarial model if not already saved\n",
    "        adv_model = adversarial_training(model_func, data_loader, epsilon, EPOCHS=10)\n",
    "        torch.save(adv_model.state_dict(), trained_model_path)\n",
    "        print(f\"Adversarial model saved at: {trained_model_path}\")\n",
    "    else:\n",
    "        # Load the adversarial model\n",
    "        adv_model = load_model(model_func, trainable=True)\n",
    "        adv_model.load_state_dict(torch.load(trained_model_path, weights_only=True))\n",
    "        adv_model.eval()\n",
    "        print(f\"Adversarial model loaded from: {trained_model_path}\")\n",
    "    \n",
    "    metrics = [model_name]\n",
    "    \n",
    "    \n",
    "    print(f\"\\nEvaluating {model_name} (No Attack):\")\n",
    "    model = load_model(model_func)\n",
    "    top1, top5 = eval_model(data_loader, model)\n",
    "    metrics.extend([top1, top5])\n",
    "\n",
    "    print(f\"\\nEvaluating {model_name} (With FGSM Attack):\")\n",
    "    model = load_model(model_func)\n",
    "    top1, top5 = eval_model(data_loader, model, img_func=lambda x, y: fgsm_attack(x, y, model, epsilon))\n",
    "    metrics.extend([top1, top5])\n",
    "    \n",
    "    print(f\"\\nEvaluating {model_name} (With PGD Attack):\")\n",
    "    model = load_model(model_func)\n",
    "    top1, top5 = eval_model(data_loader, model, img_func=lambda x, y: pgd_attack(x, y, model, epsilon))\n",
    "    metrics.extend([top1, top5])\n",
    "    \n",
    "    print(f\"\\nEvaluating {model_name} (With CW Attack):\")\n",
    "    model = load_model(model_func)\n",
    "    top1, top5 = eval_model(data_loader, model, img_func=lambda x, y: cw_attack(x, y, model))\n",
    "    metrics.extend([top1, top5])\n",
    "\n",
    "    print(f\"\\nEvaluating {model_name} (With Defense against FGSM - Adversarial Training):\")\n",
    "    model = adv_model\n",
    "    top1, top5 = eval_model(data_loader, model, img_func=lambda x, y: fgsm_attack(x, y, model, epsilon))\n",
    "    metrics.extend([top1, top5])\n",
    "    \n",
    "    print(f\"\\nEvaluating {model_name} (With Defense against PGD - Adversarial Training):\")\n",
    "    model = adv_model\n",
    "    top1, top5 = eval_model(data_loader, model, img_func=lambda x, y: pgd_attack(x, y, model, epsilon))\n",
    "    metrics.extend([top1, top5])\n",
    "    \n",
    "    print(f\"\\nEvaluating {model_name} (With Defense against CW - Adversarial Training):\")\n",
    "    model = adv_model\n",
    "    top1, top5 = eval_model(data_loader, model, img_func=lambda x, y: cw_attack(x, y, model))\n",
    "    metrics.extend([top1, top5])\n",
    "    \n",
    "    # Append the metrics for this model to the evaluation list\n",
    "    evaluation_metrics.append(metrics)\n",
    "    \n",
    "    print(\"\\n------------------------------------------------------------------------------------\\n\")\n",
    "\n",
    "columns = [\n",
    "\t\"Model\",\n",
    "    \"Top-1 (No Attack)\", \"Top-5 (No Attack)\",\n",
    "    \"Top-1 (FGSM Attack)\", \"Top-5 (FGSM Attack)\",\n",
    "    \"Top-1 (PGD Attack)\", \"Top-5 (PGD Attack)\",\n",
    "    \"Top-1 (CW Attack)\", \"Top-5 (CW Attack)\",\n",
    "    \"Top-1 (Defense FGSM)\", \"Top-5 (Defense FGSM)\",\n",
    "    \"Top-1 (Defense PGD)\", \"Top-5 (Defense PGD)\",\n",
    "    \"Top-1 (Defense CW)\", \"Top-5 (Defense CW)\"\n",
    "]\n",
    "\n",
    "# Save the evaluation metrics to a CSV file\n",
    "output_file = \"./exports/data/evaluation_metrics.csv\"\n",
    "os.makedirs(os.path.dirname(output_file), exist_ok=True)\n",
    "\n",
    "df = pd.DataFrame(evaluation_metrics, columns=columns)\n",
    "df.to_csv(output_file, index=False)\n",
    "\n",
    "print(f\"Saved evaluation metrics to: {output_file}\")"
   ]
  }
 ],
 "metadata": {
  "kernelspec": {
   "display_name": "Python 3",
   "language": "python",
   "name": "python3"
  },
  "language_info": {
   "codemirror_mode": {
    "name": "ipython",
    "version": 3
   },
   "file_extension": ".py",
   "mimetype": "text/x-python",
   "name": "python",
   "nbconvert_exporter": "python",
   "pygments_lexer": "ipython3",
   "version": "3.12.7"
  }
 },
 "nbformat": 4,
 "nbformat_minor": 2
}
