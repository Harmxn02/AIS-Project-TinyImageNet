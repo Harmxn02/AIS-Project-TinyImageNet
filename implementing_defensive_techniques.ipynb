{
 "cells": [
  {
   "cell_type": "markdown",
   "metadata": {},
   "source": [
    "# AI & Security Project\n",
    "\n",
    "**implementing_defensive_techniques.ipynb**: in this notebook we explore several defensive techniques, to make our model less prone to attacks.\n"
   ]
  },
  {
   "cell_type": "code",
   "execution_count": 27,
   "metadata": {},
   "outputs": [],
   "source": [
    "import os\n",
    "import json\n",
    "import numpy as np\n",
    "import torch\n",
    "import torchvision\n",
    "from torchvision import transforms\n",
    "from torch.utils import data\n",
    "from tqdm.notebook import tqdm"
   ]
  },
  {
   "cell_type": "markdown",
   "metadata": {},
   "source": [
    "## Step 0: Configurations\n"
   ]
  },
  {
   "cell_type": "code",
   "execution_count": 28,
   "metadata": {},
   "outputs": [],
   "source": [
    "# Define constants\n",
    "DATASET_PATH = r\"./data/TinyImageNet-sad/\"  # Adjust this to the correct path where the dataset is stored\n",
    "CHECKPOINT_PATH = r\"./models/\"\n",
    "NORM_MEAN = np.array([0.485, 0.456, 0.406])\n",
    "NORM_STD = np.array([0.229, 0.224, 0.225])\n",
    "device = torch.device(\"cuda:0\" if torch.cuda.is_available() else \"cpu\")\n",
    "\n",
    "# Define transformations\n",
    "plain_transforms = transforms.Compose(\n",
    "    [transforms.ToTensor(), transforms.Normalize(mean=NORM_MEAN, std=NORM_STD)]\n",
    ")\n",
    "\n",
    "# Construct the path to the dataset\n",
    "imagenet_path = os.path.join(DATASET_PATH, \"TinyImageNet\")\n",
    "assert os.path.isdir(imagenet_path), (\n",
    "    f'Could not find the ImageNet dataset at the expected path: \"{imagenet_path}\". '\n",
    "    \"Please make sure the dataset is downloaded and the path is correct.\"\n",
    ")"
   ]
  },
  {
   "cell_type": "markdown",
   "metadata": {},
   "source": [
    "## Step 1: dataset and libraries\n"
   ]
  },
  {
   "cell_type": "code",
   "execution_count": 29,
   "metadata": {},
   "outputs": [],
   "source": [
    "# Load the dataset\n",
    "dataset = torchvision.datasets.ImageFolder(\n",
    "    root=imagenet_path, transform=plain_transforms\n",
    ")\n",
    "data_loader = data.DataLoader(\n",
    "    dataset, batch_size=32, shuffle=False, drop_last=False, num_workers=8\n",
    ")"
   ]
  },
  {
   "cell_type": "code",
   "execution_count": 30,
   "metadata": {},
   "outputs": [],
   "source": [
    "# Load label names\n",
    "label_list_path = os.path.join(imagenet_path, \"label_list.json\")\n",
    "assert os.path.isfile(\n",
    "    label_list_path\n",
    "), f'Label list file not found at \"{label_list_path}\".'\n",
    "\n",
    "with open(label_list_path, \"r\") as f:\n",
    "    label_names = json.load(f)"
   ]
  },
  {
   "cell_type": "markdown",
   "metadata": {},
   "source": [
    "## Step 2: model functions"
   ]
  },
  {
   "cell_type": "markdown",
   "metadata": {},
   "source": [
    "### Utility"
   ]
  },
  {
   "cell_type": "code",
   "execution_count": 31,
   "metadata": {},
   "outputs": [],
   "source": [
    "def load_model(model_func, trainable=False):\n",
    "    \"\"\"Load a pretrained model given its name.\"\"\"\n",
    "    model = model_func()\n",
    "    model = model.to(device) # Ensure the model is on the correct device\n",
    "    model.eval()\n",
    "\n",
    "    # Control gradient computation\n",
    "    for p in model.parameters():\n",
    "        p.requires_grad = trainable\n",
    "\n",
    "    return model\n",
    "\n",
    "\n",
    "def eval_model(dataset_loader, model, img_func=None):\n",
    "    \"\"\"Evaluate the model on the given dataset loader.\"\"\"\n",
    "    tp, tp_5, counter = 0.0, 0.0, 0.0\n",
    "    for imgs, labels in tqdm(dataset_loader, desc=\"Validating...\", leave=False):\n",
    "        imgs = imgs.to(device)\n",
    "        labels = labels.to(device)\n",
    "        if img_func is not None:\n",
    "            imgs = img_func(imgs, labels)\n",
    "        with torch.no_grad():\n",
    "            preds = model(imgs)\n",
    "        tp += (preds.argmax(dim=-1) == labels).sum()\n",
    "        tp_5 += (preds.topk(5, dim=-1)[1] == labels[..., None]).any(dim=-1).sum()\n",
    "        counter += preds.shape[0]\n",
    "    acc = tp.float().item() / counter\n",
    "    top5 = tp_5.float().item() / counter\n",
    "    print(f\"\\tTop-1 error: {(100.0 * (1 - acc)):4.2f}%\")\n",
    "    print(f\"\\tTop-5 error: {(100.0 * (1 - top5)):4.2f}%\")\n",
    "    return acc, top5"
   ]
  },
  {
   "cell_type": "markdown",
   "metadata": {},
   "source": [
    "### FGSM Attack"
   ]
  },
  {
   "cell_type": "code",
   "execution_count": 32,
   "metadata": {},
   "outputs": [],
   "source": [
    "# Define FGSM attack\n",
    "def fgsm_attack(images, labels, model, epsilon):\n",
    "    images.requires_grad = True\n",
    "    outputs = model(images)\n",
    "    loss = torch.nn.CrossEntropyLoss()(outputs, labels)\n",
    "    model.zero_grad()\n",
    "    loss.backward()\n",
    "    perturbations = epsilon * images.grad.sign()\n",
    "    adv_images = images + perturbations\n",
    "    adv_images = torch.clamp(adv_images, 0, 1)  # Keep pixel values in range\n",
    "    return adv_images"
   ]
  },
  {
   "cell_type": "markdown",
   "metadata": {},
   "source": [
    "### PGD Attack"
   ]
  },
  {
   "cell_type": "code",
   "execution_count": 33,
   "metadata": {},
   "outputs": [],
   "source": [
    "# PGD Attack Implementation (Stronger Alternative to FGSM)\n",
    "def pgd_attack(images, labels, model, epsilon, alpha=0.01, num_iter=10):\n",
    "    adv_images = images.clone().detach().to(device)\n",
    "    adv_images.requires_grad = True\n",
    "    for _ in range(num_iter):\n",
    "        outputs = model(adv_images)\n",
    "        loss = torch.nn.CrossEntropyLoss()(outputs, labels)\n",
    "        model.zero_grad()\n",
    "        loss.backward()\n",
    "        grad = adv_images.grad.data\n",
    "        adv_images = adv_images + alpha * grad.sign()\n",
    "        perturbation = torch.clamp(adv_images - images, min=-epsilon, max=epsilon)\n",
    "        adv_images = torch.clamp(images + perturbation, min=0, max=1).detach()\n",
    "        adv_images.requires_grad = True\n",
    "    return adv_images\n"
   ]
  },
  {
   "cell_type": "markdown",
   "metadata": {},
   "source": [
    "### Adversarial training"
   ]
  },
  {
   "cell_type": "code",
   "execution_count": 34,
   "metadata": {},
   "outputs": [],
   "source": [
    "# Define adversarial training\n",
    "def adversarial_training(model_func, train_loader, epsilon):\n",
    "    model = model_func()\n",
    "    model = model.to(device)  # Ensure model is on the correct device\n",
    "    model.train()\n",
    "    optimizer = torch.optim.SGD(model.parameters(), lr=0.01, momentum=0.9)\n",
    "    loss_fn = torch.nn.CrossEntropyLoss()\n",
    "    \n",
    "    EPOCHS = 10\n",
    "\n",
    "    for epoch in range(EPOCHS):\n",
    "        for imgs, labels in tqdm(train_loader, desc=f\"Adversarial Training (epoch={epoch+1}/{EPOCHS})\", leave=False):\n",
    "            imgs, labels = imgs.to(device), labels.to(device)\n",
    "            # Generate adversarial examples\n",
    "            adv_imgs = fgsm_attack(imgs, labels, model, epsilon)\n",
    "            # Combine clean and adversarial examples\n",
    "            combined_imgs = torch.cat([imgs, adv_imgs])\n",
    "            combined_labels = torch.cat([labels, labels])\n",
    "            # Train on combined examples\n",
    "            optimizer.zero_grad()\n",
    "            preds = model(combined_imgs)\n",
    "            loss = loss_fn(preds, combined_labels)\n",
    "            loss.backward()\n",
    "            optimizer.step()\n",
    "    return model"
   ]
  },
  {
   "cell_type": "markdown",
   "metadata": {},
   "source": [
    "### Evaluate all models"
   ]
  },
  {
   "cell_type": "code",
   "execution_count": 35,
   "metadata": {},
   "outputs": [
    {
     "name": "stdout",
     "output_type": "stream",
     "text": [
      "\n",
      "Evaluating ResNet18 (No Attack):\n"
     ]
    },
    {
     "data": {
      "application/vnd.jupyter.widget-view+json": {
       "model_id": "a7211f34825448d39e57409960870db3",
       "version_major": 2,
       "version_minor": 0
      },
      "text/plain": [
       "Validating...:   0%|          | 0/157 [00:00<?, ?it/s]"
      ]
     },
     "metadata": {},
     "output_type": "display_data"
    },
    {
     "name": "stdout",
     "output_type": "stream",
     "text": [
      "\tTop-1 error: 24.00%\n",
      "\tTop-5 error: 6.76%\n",
      "\n",
      "Evaluating ResNet18 (With FGSM Attack):\n"
     ]
    },
    {
     "data": {
      "application/vnd.jupyter.widget-view+json": {
       "model_id": "05fa35df042841be8eb525a9d675e7b8",
       "version_major": 2,
       "version_minor": 0
      },
      "text/plain": [
       "Validating...:   0%|          | 0/157 [00:00<?, ?it/s]"
      ]
     },
     "metadata": {},
     "output_type": "display_data"
    },
    {
     "name": "stdout",
     "output_type": "stream",
     "text": [
      "\tTop-1 error: 84.86%\n",
      "\tTop-5 error: 66.16%\n",
      "\n",
      "Evaluating ResNet18 (With PGD Attack):\n"
     ]
    },
    {
     "data": {
      "application/vnd.jupyter.widget-view+json": {
       "model_id": "a3c76a6fcb794da2b5cfd0c7cdffeae8",
       "version_major": 2,
       "version_minor": 0
      },
      "text/plain": [
       "Validating...:   0%|          | 0/157 [00:00<?, ?it/s]"
      ]
     },
     "metadata": {},
     "output_type": "display_data"
    },
    {
     "name": "stdout",
     "output_type": "stream",
     "text": [
      "\tTop-1 error: 99.82%\n",
      "\tTop-5 error: 97.74%\n",
      "\n",
      "Evaluating ResNet18 (With Defense against FGSM - Adversarial Training):\n"
     ]
    },
    {
     "data": {
      "application/vnd.jupyter.widget-view+json": {
       "model_id": "1f367d0cff2648bb96950e9bd8a7280f",
       "version_major": 2,
       "version_minor": 0
      },
      "text/plain": [
       "Adversarial Training (epoch=1/10):   0%|          | 0/157 [00:00<?, ?it/s]"
      ]
     },
     "metadata": {},
     "output_type": "display_data"
    },
    {
     "data": {
      "application/vnd.jupyter.widget-view+json": {
       "model_id": "2fd1ff850c4d452baac6fcc9eabe3e50",
       "version_major": 2,
       "version_minor": 0
      },
      "text/plain": [
       "Adversarial Training (epoch=2/10):   0%|          | 0/157 [00:00<?, ?it/s]"
      ]
     },
     "metadata": {},
     "output_type": "display_data"
    },
    {
     "data": {
      "application/vnd.jupyter.widget-view+json": {
       "model_id": "f531be974ccf40399e56b657650df2f4",
       "version_major": 2,
       "version_minor": 0
      },
      "text/plain": [
       "Adversarial Training (epoch=3/10):   0%|          | 0/157 [00:00<?, ?it/s]"
      ]
     },
     "metadata": {},
     "output_type": "display_data"
    },
    {
     "data": {
      "application/vnd.jupyter.widget-view+json": {
       "model_id": "efc21bc233c74affbaae8ead2d2a3a34",
       "version_major": 2,
       "version_minor": 0
      },
      "text/plain": [
       "Adversarial Training (epoch=4/10):   0%|          | 0/157 [00:00<?, ?it/s]"
      ]
     },
     "metadata": {},
     "output_type": "display_data"
    },
    {
     "data": {
      "application/vnd.jupyter.widget-view+json": {
       "model_id": "bc27c0e8f4954daba017aa06df03e3f9",
       "version_major": 2,
       "version_minor": 0
      },
      "text/plain": [
       "Adversarial Training (epoch=5/10):   0%|          | 0/157 [00:00<?, ?it/s]"
      ]
     },
     "metadata": {},
     "output_type": "display_data"
    },
    {
     "data": {
      "application/vnd.jupyter.widget-view+json": {
       "model_id": "39eb2e6e078a4d2ca363c0bb7fc30bf0",
       "version_major": 2,
       "version_minor": 0
      },
      "text/plain": [
       "Adversarial Training (epoch=6/10):   0%|          | 0/157 [00:00<?, ?it/s]"
      ]
     },
     "metadata": {},
     "output_type": "display_data"
    },
    {
     "data": {
      "application/vnd.jupyter.widget-view+json": {
       "model_id": "099a8eb5385b410e83be54e614549386",
       "version_major": 2,
       "version_minor": 0
      },
      "text/plain": [
       "Adversarial Training (epoch=7/10):   0%|          | 0/157 [00:00<?, ?it/s]"
      ]
     },
     "metadata": {},
     "output_type": "display_data"
    },
    {
     "data": {
      "application/vnd.jupyter.widget-view+json": {
       "model_id": "dec7778ec981461aa6bfcc04050ed019",
       "version_major": 2,
       "version_minor": 0
      },
      "text/plain": [
       "Adversarial Training (epoch=8/10):   0%|          | 0/157 [00:00<?, ?it/s]"
      ]
     },
     "metadata": {},
     "output_type": "display_data"
    },
    {
     "data": {
      "application/vnd.jupyter.widget-view+json": {
       "model_id": "fc69aa5a2ea74266a11b1d0822c06eff",
       "version_major": 2,
       "version_minor": 0
      },
      "text/plain": [
       "Adversarial Training (epoch=9/10):   0%|          | 0/157 [00:00<?, ?it/s]"
      ]
     },
     "metadata": {},
     "output_type": "display_data"
    },
    {
     "data": {
      "application/vnd.jupyter.widget-view+json": {
       "model_id": "f10b81c8d2e9469cb41fe77d0b5096a7",
       "version_major": 2,
       "version_minor": 0
      },
      "text/plain": [
       "Adversarial Training (epoch=10/10):   0%|          | 0/157 [00:00<?, ?it/s]"
      ]
     },
     "metadata": {},
     "output_type": "display_data"
    },
    {
     "data": {
      "application/vnd.jupyter.widget-view+json": {
       "model_id": "3538c44b22844e649dd667467378611d",
       "version_major": 2,
       "version_minor": 0
      },
      "text/plain": [
       "Validating...:   0%|          | 0/157 [00:00<?, ?it/s]"
      ]
     },
     "metadata": {},
     "output_type": "display_data"
    },
    {
     "name": "stdout",
     "output_type": "stream",
     "text": [
      "\tTop-1 error: 7.22%\n",
      "\tTop-5 error: 2.34%\n",
      "\n",
      "Evaluating ResNet18 (With Defense against PGD - Adversarial Training):\n"
     ]
    },
    {
     "data": {
      "application/vnd.jupyter.widget-view+json": {
       "model_id": "1ce66405ef954b62aec77d2b32f33a7e",
       "version_major": 2,
       "version_minor": 0
      },
      "text/plain": [
       "Validating...:   0%|          | 0/157 [00:00<?, ?it/s]"
      ]
     },
     "metadata": {},
     "output_type": "display_data"
    },
    {
     "name": "stdout",
     "output_type": "stream",
     "text": [
      "\tTop-1 error: 39.98%\n",
      "\tTop-5 error: 28.14%\n"
     ]
    }
   ],
   "source": [
    "from torchvision import models\n",
    "from torchvision.models import ResNet18_Weights, ResNet50_Weights, ResNet152_Weights, VGG16_Weights, VGG19_Weights, RegNet_Y_128GF_Weights, ViT_H_14_Weights, ViT_L_16_Weights\n",
    "\n",
    "\n",
    "list_of_models = {\n",
    "    \"ResNet18\": lambda: models.resnet18(weights=ResNet18_Weights.DEFAULT),\n",
    "    # \"ResNet50\": lambda: models.resnet50(weights=ResNet50_Weights.DEFAULT),\n",
    "    # \"ResNet152\": lambda: models.resnet152(weights=ResNet152_Weights.DEFAULT),\n",
    "    # \"VGG16\": lambda: models.vgg16(weights=VGG16_Weights.DEFAULT),\n",
    "    # \"VGG19\": lambda: models.vgg19(weights=VGG19_Weights.DEFAULT),\n",
    "}\n",
    "\n",
    "\n",
    "# Evaluate all models\n",
    "epsilon = 0.03\n",
    "for model_name, model_func in list_of_models.items():\n",
    "    print(f\"\\nEvaluating {model_name} (No Attack):\")\n",
    "    model = load_model(model_func)\n",
    "    _ = eval_model(data_loader, model)\n",
    "\n",
    "    print(f\"\\nEvaluating {model_name} (With FGSM Attack):\")\n",
    "    model = load_model(model_func)\n",
    "    _ = eval_model(data_loader, model, img_func=lambda x, y: fgsm_attack(x, y, model, epsilon))\n",
    "    \n",
    "    print(f\"\\nEvaluating {model_name} (With PGD Attack):\")\n",
    "    model = load_model(model_func)\n",
    "    _ = eval_model(data_loader, model, img_func=lambda x, y: pgd_attack(x, y, model, epsilon))\n",
    "\n",
    "    print(f\"\\nEvaluating {model_name} (With Defense against FGSM - Adversarial Training):\")\n",
    "    adv_model = adversarial_training(model_func, data_loader, epsilon)\n",
    "    _ = eval_model(data_loader, adv_model, img_func=lambda x, y: fgsm_attack(x, y, adv_model, epsilon))\n",
    "    \n",
    "    print(f\"\\nEvaluating {model_name} (With Defense against PGD - Adversarial Training):\")\n",
    "    model = adv_model\n",
    "    _ = eval_model(data_loader, model, img_func=lambda x, y: pgd_attack(x, y, model, epsilon))\n",
    "    \n",
    "    print(\"-\"*50)"
   ]
  }
 ],
 "metadata": {
  "kernelspec": {
   "display_name": "Python 3",
   "language": "python",
   "name": "python3"
  },
  "language_info": {
   "codemirror_mode": {
    "name": "ipython",
    "version": 3
   },
   "file_extension": ".py",
   "mimetype": "text/x-python",
   "name": "python",
   "nbconvert_exporter": "python",
   "pygments_lexer": "ipython3",
   "version": "3.12.7"
  }
 },
 "nbformat": 4,
 "nbformat_minor": 2
}
