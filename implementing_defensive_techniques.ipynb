{
 "cells": [
  {
   "cell_type": "markdown",
   "metadata": {},
   "source": [
    "# AI & Security Project\n",
    "\n",
    "**implementing_defensive_techniques.ipynb**: in this notebook we explore several defensive techniques, to make our model less prone to attacks.\n"
   ]
  },
  {
   "cell_type": "code",
   "execution_count": 9,
   "metadata": {},
   "outputs": [],
   "source": [
    "import os\n",
    "import json\n",
    "import numpy as np\n",
    "import torch\n",
    "import torchvision\n",
    "from torchvision import transforms\n",
    "from torch.utils import data\n",
    "from tqdm.notebook import tqdm"
   ]
  },
  {
   "cell_type": "markdown",
   "metadata": {},
   "source": [
    "## Step 0: Configurations\n"
   ]
  },
  {
   "cell_type": "code",
   "execution_count": 10,
   "metadata": {},
   "outputs": [],
   "source": [
    "# Define constants\n",
    "DATASET_PATH = r\"./data/TinyImageNet-sad/\"  # Adjust this to the correct path where the dataset is stored\n",
    "CHECKPOINT_PATH = r\"./models/\"\n",
    "NORM_MEAN = np.array([0.485, 0.456, 0.406])\n",
    "NORM_STD = np.array([0.229, 0.224, 0.225])\n",
    "device = torch.device(\"cuda:0\" if torch.cuda.is_available() else \"cpu\")\n",
    "\n",
    "# Define transformations\n",
    "plain_transforms = transforms.Compose(\n",
    "    [transforms.ToTensor(), transforms.Normalize(mean=NORM_MEAN, std=NORM_STD)]\n",
    ")\n",
    "\n",
    "# Construct the path to the dataset\n",
    "imagenet_path = os.path.join(DATASET_PATH, \"TinyImageNet\")\n",
    "assert os.path.isdir(imagenet_path), (\n",
    "    f'Could not find the ImageNet dataset at the expected path: \"{imagenet_path}\". '\n",
    "    \"Please make sure the dataset is downloaded and the path is correct.\"\n",
    ")"
   ]
  },
  {
   "cell_type": "markdown",
   "metadata": {},
   "source": [
    "## Step 1: dataset and libraries\n"
   ]
  },
  {
   "cell_type": "code",
   "execution_count": 11,
   "metadata": {},
   "outputs": [],
   "source": [
    "# Load the dataset\n",
    "dataset = torchvision.datasets.ImageFolder(\n",
    "    root=imagenet_path, transform=plain_transforms\n",
    ")\n",
    "data_loader = data.DataLoader(\n",
    "    dataset, batch_size=32, shuffle=False, drop_last=False, num_workers=8\n",
    ")"
   ]
  },
  {
   "cell_type": "code",
   "execution_count": 12,
   "metadata": {},
   "outputs": [],
   "source": [
    "# Load label names\n",
    "label_list_path = os.path.join(imagenet_path, \"label_list.json\")\n",
    "assert os.path.isfile(\n",
    "    label_list_path\n",
    "), f'Label list file not found at \"{label_list_path}\".'\n",
    "\n",
    "with open(label_list_path, \"r\") as f:\n",
    "    label_names = json.load(f)"
   ]
  },
  {
   "cell_type": "markdown",
   "metadata": {},
   "source": [
    "## Step 2: model functions"
   ]
  },
  {
   "cell_type": "markdown",
   "metadata": {},
   "source": [
    "### Utility"
   ]
  },
  {
   "cell_type": "code",
   "execution_count": 13,
   "metadata": {},
   "outputs": [],
   "source": [
    "def load_model(model_func, trainable=False):\n",
    "    \"\"\"Load a pretrained model given its name.\"\"\"\n",
    "    model = model_func()\n",
    "    model = model.to(device) # Ensure the model is on the correct device\n",
    "    model.eval()\n",
    "\n",
    "    # Control gradient computation\n",
    "    for p in model.parameters():\n",
    "        p.requires_grad = trainable\n",
    "\n",
    "    return model\n",
    "\n",
    "\n",
    "def eval_model(dataset_loader, model, img_func=None):\n",
    "    \"\"\"Evaluate the model on the given dataset loader.\"\"\"\n",
    "    tp, tp_5, counter = 0.0, 0.0, 0.0\n",
    "    for imgs, labels in tqdm(dataset_loader, desc=\"Validating...\", leave=False):\n",
    "        imgs = imgs.to(device)\n",
    "        labels = labels.to(device)\n",
    "        if img_func is not None:\n",
    "            imgs = img_func(imgs, labels)\n",
    "        with torch.no_grad():\n",
    "            preds = model(imgs)\n",
    "        tp += (preds.argmax(dim=-1) == labels).sum()\n",
    "        tp_5 += (preds.topk(5, dim=-1)[1] == labels[..., None]).any(dim=-1).sum()\n",
    "        counter += preds.shape[0]\n",
    "    acc = tp.float().item() / counter\n",
    "    top5 = tp_5.float().item() / counter\n",
    "    print(f\"\\tTop-1 error: {(100.0 * (1 - acc)):4.2f}%\")\n",
    "    print(f\"\\tTop-5 error: {(100.0 * (1 - top5)):4.2f}%\")\n",
    "    return acc, top5"
   ]
  },
  {
   "cell_type": "markdown",
   "metadata": {},
   "source": [
    "### FGSM Attack"
   ]
  },
  {
   "cell_type": "code",
   "execution_count": 14,
   "metadata": {},
   "outputs": [],
   "source": [
    "# Define FGSM attack\n",
    "def fgsm_attack(images, labels, model, epsilon):\n",
    "    images.requires_grad = True\n",
    "    outputs = model(images)\n",
    "    loss = torch.nn.CrossEntropyLoss()(outputs, labels)\n",
    "    model.zero_grad()\n",
    "    loss.backward()\n",
    "    perturbations = epsilon * images.grad.sign()\n",
    "    adv_images = images + perturbations\n",
    "    adv_images = torch.clamp(adv_images, 0, 1)  # Keep pixel values in range\n",
    "    return adv_images"
   ]
  },
  {
   "cell_type": "markdown",
   "metadata": {},
   "source": [
    "### Adversarial training"
   ]
  },
  {
   "cell_type": "code",
   "execution_count": 15,
   "metadata": {},
   "outputs": [],
   "source": [
    "# Define adversarial training\n",
    "def adversarial_training(model_func, train_loader, epsilon):\n",
    "    model = model_func()\n",
    "    model = model.to(device)  # Ensure model is on the correct device\n",
    "    model.train()\n",
    "    optimizer = torch.optim.SGD(model.parameters(), lr=0.01, momentum=0.9)\n",
    "    loss_fn = torch.nn.CrossEntropyLoss()\n",
    "    \n",
    "    EPOCHS = 10\n",
    "\n",
    "    for epoch in range(EPOCHS):\n",
    "        for imgs, labels in tqdm(train_loader, desc=f\"Adversarial Training (epoch={epoch+1}/{EPOCHS})\", leave=False):\n",
    "            imgs, labels = imgs.to(device), labels.to(device)\n",
    "            # Generate adversarial examples\n",
    "            adv_imgs = fgsm_attack(imgs, labels, model, epsilon)\n",
    "            # Combine clean and adversarial examples\n",
    "            combined_imgs = torch.cat([imgs, adv_imgs])\n",
    "            combined_labels = torch.cat([labels, labels])\n",
    "            # Train on combined examples\n",
    "            optimizer.zero_grad()\n",
    "            preds = model(combined_imgs)\n",
    "            loss = loss_fn(preds, combined_labels)\n",
    "            loss.backward()\n",
    "            optimizer.step()\n",
    "    return model"
   ]
  },
  {
   "cell_type": "markdown",
   "metadata": {},
   "source": [
    "### Evaluate all models"
   ]
  },
  {
   "cell_type": "code",
   "execution_count": 16,
   "metadata": {},
   "outputs": [
    {
     "name": "stdout",
     "output_type": "stream",
     "text": [
      "\n",
      "Evaluating ResNet18 (No Attack):\n"
     ]
    },
    {
     "data": {
      "application/vnd.jupyter.widget-view+json": {
       "model_id": "d4b5e6eb73c54955a5527358e3a465d1",
       "version_major": 2,
       "version_minor": 0
      },
      "text/plain": [
       "Validating...:   0%|          | 0/157 [00:00<?, ?it/s]"
      ]
     },
     "metadata": {},
     "output_type": "display_data"
    },
    {
     "name": "stdout",
     "output_type": "stream",
     "text": [
      "\tTop-1 error: 24.00%\n",
      "\tTop-5 error: 6.76%\n",
      "\n",
      "Evaluating ResNet18 (With FGSM Attack):\n"
     ]
    },
    {
     "data": {
      "application/vnd.jupyter.widget-view+json": {
       "model_id": "4b5f72e1de184fa3b6e3f9ecd4d3493d",
       "version_major": 2,
       "version_minor": 0
      },
      "text/plain": [
       "Validating...:   0%|          | 0/157 [00:00<?, ?it/s]"
      ]
     },
     "metadata": {},
     "output_type": "display_data"
    },
    {
     "name": "stdout",
     "output_type": "stream",
     "text": [
      "\tTop-1 error: 84.86%\n",
      "\tTop-5 error: 66.16%\n",
      "\n",
      "Evaluating ResNet18 (With Defense - Adversarial Training):\n"
     ]
    },
    {
     "data": {
      "application/vnd.jupyter.widget-view+json": {
       "model_id": "c9830eea9f0247768c0a6eadbb7ea3c4",
       "version_major": 2,
       "version_minor": 0
      },
      "text/plain": [
       "Adversarial Training (epoch=1/10):   0%|          | 0/157 [00:00<?, ?it/s]"
      ]
     },
     "metadata": {},
     "output_type": "display_data"
    },
    {
     "data": {
      "application/vnd.jupyter.widget-view+json": {
       "model_id": "c51d1f9b8d6b4b1586cc94b53d3a9948",
       "version_major": 2,
       "version_minor": 0
      },
      "text/plain": [
       "Adversarial Training (epoch=2/10):   0%|          | 0/157 [00:00<?, ?it/s]"
      ]
     },
     "metadata": {},
     "output_type": "display_data"
    },
    {
     "data": {
      "application/vnd.jupyter.widget-view+json": {
       "model_id": "d80621be912442eab183d9e8519859b3",
       "version_major": 2,
       "version_minor": 0
      },
      "text/plain": [
       "Adversarial Training (epoch=3/10):   0%|          | 0/157 [00:00<?, ?it/s]"
      ]
     },
     "metadata": {},
     "output_type": "display_data"
    },
    {
     "data": {
      "application/vnd.jupyter.widget-view+json": {
       "model_id": "ce458c45bb304f56a52d7726d4c40d3c",
       "version_major": 2,
       "version_minor": 0
      },
      "text/plain": [
       "Adversarial Training (epoch=4/10):   0%|          | 0/157 [00:00<?, ?it/s]"
      ]
     },
     "metadata": {},
     "output_type": "display_data"
    },
    {
     "data": {
      "application/vnd.jupyter.widget-view+json": {
       "model_id": "39fc3f4da4bb4b009a968076ca28d1a5",
       "version_major": 2,
       "version_minor": 0
      },
      "text/plain": [
       "Adversarial Training (epoch=5/10):   0%|          | 0/157 [00:00<?, ?it/s]"
      ]
     },
     "metadata": {},
     "output_type": "display_data"
    },
    {
     "data": {
      "application/vnd.jupyter.widget-view+json": {
       "model_id": "18559c151dc74bd295214565ebd6266a",
       "version_major": 2,
       "version_minor": 0
      },
      "text/plain": [
       "Adversarial Training (epoch=6/10):   0%|          | 0/157 [00:00<?, ?it/s]"
      ]
     },
     "metadata": {},
     "output_type": "display_data"
    },
    {
     "data": {
      "application/vnd.jupyter.widget-view+json": {
       "model_id": "b866d0eb1e3c463984ae5585aa8d284e",
       "version_major": 2,
       "version_minor": 0
      },
      "text/plain": [
       "Adversarial Training (epoch=7/10):   0%|          | 0/157 [00:00<?, ?it/s]"
      ]
     },
     "metadata": {},
     "output_type": "display_data"
    },
    {
     "data": {
      "application/vnd.jupyter.widget-view+json": {
       "model_id": "ba3d9d88d24d44d3a2ac2c0e69ee402b",
       "version_major": 2,
       "version_minor": 0
      },
      "text/plain": [
       "Adversarial Training (epoch=8/10):   0%|          | 0/157 [00:00<?, ?it/s]"
      ]
     },
     "metadata": {},
     "output_type": "display_data"
    },
    {
     "data": {
      "application/vnd.jupyter.widget-view+json": {
       "model_id": "23f048fbd48943408ff34e0d44cded6d",
       "version_major": 2,
       "version_minor": 0
      },
      "text/plain": [
       "Adversarial Training (epoch=9/10):   0%|          | 0/157 [00:00<?, ?it/s]"
      ]
     },
     "metadata": {},
     "output_type": "display_data"
    },
    {
     "data": {
      "application/vnd.jupyter.widget-view+json": {
       "model_id": "1e4b3017e7d74aa6b555036d98ebb6a6",
       "version_major": 2,
       "version_minor": 0
      },
      "text/plain": [
       "Adversarial Training (epoch=10/10):   0%|          | 0/157 [00:00<?, ?it/s]"
      ]
     },
     "metadata": {},
     "output_type": "display_data"
    },
    {
     "data": {
      "application/vnd.jupyter.widget-view+json": {
       "model_id": "0c1f95562b654c14ab212a5aee695b5c",
       "version_major": 2,
       "version_minor": 0
      },
      "text/plain": [
       "Validating...:   0%|          | 0/157 [00:00<?, ?it/s]"
      ]
     },
     "metadata": {},
     "output_type": "display_data"
    },
    {
     "name": "stdout",
     "output_type": "stream",
     "text": [
      "\tTop-1 error: 5.54%\n",
      "\tTop-5 error: 1.68%\n"
     ]
    }
   ],
   "source": [
    "from torchvision import models\n",
    "from torchvision.models import ResNet18_Weights, ResNet50_Weights, ResNet152_Weights, VGG16_Weights, VGG19_Weights, RegNet_Y_128GF_Weights, ViT_H_14_Weights, ViT_L_16_Weights\n",
    "\n",
    "\n",
    "list_of_models = {\n",
    "    \"ResNet18\": lambda: models.resnet18(weights=ResNet18_Weights.DEFAULT),\n",
    "    # \"ResNet50\": lambda: models.resnet50(weights=ResNet50_Weights.DEFAULT),\n",
    "    # \"ResNet152\": lambda: models.resnet152(weights=ResNet152_Weights.DEFAULT),\n",
    "    # \"VGG16\": lambda: models.vgg16(weights=VGG16_Weights.DEFAULT),\n",
    "    # \"VGG19\": lambda: models.vgg19(weights=VGG19_Weights.DEFAULT),\n",
    "}\n",
    "\n",
    "\n",
    "# Evaluate all models\n",
    "epsilon = 0.03\n",
    "for model_name, model_func in list_of_models.items():\n",
    "    print(f\"\\nEvaluating {model_name} (No Attack):\")\n",
    "    model = load_model(model_func)\n",
    "    _ = eval_model(data_loader, model)\n",
    "\n",
    "    print(f\"\\nEvaluating {model_name} (With FGSM Attack):\")\n",
    "    model = load_model(model_func)\n",
    "    _ = eval_model(data_loader, model, img_func=lambda x, y: fgsm_attack(x, y, model, epsilon))\n",
    "\n",
    "    print(f\"\\nEvaluating {model_name} (With Defense - Adversarial Training):\")\n",
    "    adv_model = adversarial_training(model_func, data_loader, epsilon)\n",
    "    _ = eval_model(data_loader, adv_model, img_func=lambda x, y: fgsm_attack(x, y, adv_model, epsilon))\n"
   ]
  }
 ],
 "metadata": {
  "kernelspec": {
   "display_name": "Python 3",
   "language": "python",
   "name": "python3"
  },
  "language_info": {
   "codemirror_mode": {
    "name": "ipython",
    "version": 3
   },
   "file_extension": ".py",
   "mimetype": "text/x-python",
   "name": "python",
   "nbconvert_exporter": "python",
   "pygments_lexer": "ipython3",
   "version": "3.12.7"
  }
 },
 "nbformat": 4,
 "nbformat_minor": 2
}
