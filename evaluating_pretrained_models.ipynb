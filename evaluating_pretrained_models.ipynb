{
 "cells": [
  {
   "cell_type": "markdown",
   "metadata": {},
   "source": [
    "# AI & Security Project\n",
    "\n",
    "**evaluating_pretrained_models.ipynb**: in this notebook we evaluate several pre-trained image classification models on our dataset 'TinyImageNet'. This evaluation happens before we implement FGSM to cause misclassification\n"
   ]
  },
  {
   "cell_type": "code",
   "execution_count": 1,
   "metadata": {},
   "outputs": [],
   "source": [
    "import os\n",
    "import json\n",
    "import numpy as np\n",
    "import torch\n",
    "import torchvision\n",
    "from torchvision import transforms\n",
    "from torch.utils import data\n",
    "from tqdm.notebook import tqdm"
   ]
  },
  {
   "cell_type": "markdown",
   "metadata": {},
   "source": [
    "## Step 0: Configurations\n"
   ]
  },
  {
   "cell_type": "code",
   "execution_count": 2,
   "metadata": {},
   "outputs": [],
   "source": [
    "# Define constants\n",
    "DATASET_PATH = r\"./data/TinyImageNet-sad/\"  # Adjust this to the correct path where the dataset is stored\n",
    "CHECKPOINT_PATH = r\"./models/\"\n",
    "NORM_MEAN = np.array([0.485, 0.456, 0.406])\n",
    "NORM_STD = np.array([0.229, 0.224, 0.225])\n",
    "device = torch.device(\"cuda:0\" if torch.cuda.is_available() else \"cpu\")\n",
    "\n",
    "# Define transformations\n",
    "plain_transforms = transforms.Compose(\n",
    "    [transforms.ToTensor(), transforms.Normalize(mean=NORM_MEAN, std=NORM_STD)]\n",
    ")\n",
    "\n",
    "# Construct the path to the dataset\n",
    "imagenet_path = os.path.join(DATASET_PATH, \"TinyImageNet\")\n",
    "assert os.path.isdir(imagenet_path), (\n",
    "    f'Could not find the ImageNet dataset at the expected path: \"{imagenet_path}\". '\n",
    "    \"Please make sure the dataset is downloaded and the path is correct.\"\n",
    ")"
   ]
  },
  {
   "cell_type": "markdown",
   "metadata": {},
   "source": [
    "## Step 1: dataset and libraries\n"
   ]
  },
  {
   "cell_type": "code",
   "execution_count": 3,
   "metadata": {},
   "outputs": [],
   "source": [
    "# Load the dataset\n",
    "dataset = torchvision.datasets.ImageFolder(\n",
    "    root=imagenet_path, transform=plain_transforms\n",
    ")\n",
    "data_loader = data.DataLoader(\n",
    "    dataset, batch_size=32, shuffle=False, drop_last=False, num_workers=8\n",
    ")"
   ]
  },
  {
   "cell_type": "code",
   "execution_count": 4,
   "metadata": {},
   "outputs": [],
   "source": [
    "# Load label names\n",
    "label_list_path = os.path.join(imagenet_path, \"label_list.json\")\n",
    "assert os.path.isfile(\n",
    "    label_list_path\n",
    "), f'Label list file not found at \"{label_list_path}\".'\n",
    "\n",
    "with open(label_list_path, \"r\") as f:\n",
    "    label_names = json.load(f)"
   ]
  },
  {
   "cell_type": "markdown",
   "metadata": {},
   "source": [
    "## Step 2: model functions"
   ]
  },
  {
   "cell_type": "code",
   "execution_count": 5,
   "metadata": {},
   "outputs": [],
   "source": [
    "def load_model(model_func, trainable=False):\n",
    "    \"\"\"Load a pretrained model given its name.\"\"\"\n",
    "    model = model_func()\n",
    "    model = model.to(device)\n",
    "    model.eval()\n",
    "\n",
    "    # Control gradient computation\n",
    "    for p in model.parameters():\n",
    "        p.requires_grad = trainable\n",
    "\n",
    "    return model\n",
    "\n",
    "\n",
    "def eval_model(dataset_loader, model, img_func=None):\n",
    "    \"\"\"Evaluate the model on the given dataset loader.\"\"\"\n",
    "    tp, tp_5, counter = 0.0, 0.0, 0.0\n",
    "    for imgs, labels in tqdm(dataset_loader, desc=\"Validating...\", leave=False):\n",
    "        imgs = imgs.to(device)\n",
    "        labels = labels.to(device)\n",
    "        if img_func is not None:\n",
    "            imgs = img_func(imgs, labels)\n",
    "        with torch.no_grad():\n",
    "            preds = model(imgs)\n",
    "        tp += (preds.argmax(dim=-1) == labels).sum()\n",
    "        tp_5 += (preds.topk(5, dim=-1)[1] == labels[..., None]).any(dim=-1).sum()\n",
    "        counter += preds.shape[0]\n",
    "    acc = tp.float().item() / counter\n",
    "    top5 = tp_5.float().item() / counter\n",
    "    print(f\"\\tTop-1 error: {(100.0 * (1 - acc)):4.2f}%\")\n",
    "    print(f\"\\tTop-5 error: {(100.0 * (1 - top5)):4.2f}%\")\n",
    "    return acc, top5"
   ]
  },
  {
   "cell_type": "code",
   "execution_count": 6,
   "metadata": {},
   "outputs": [
    {
     "name": "stdout",
     "output_type": "stream",
     "text": [
      "\n",
      "Evaluating ResNet18:\n"
     ]
    },
    {
     "data": {
      "application/vnd.jupyter.widget-view+json": {
       "model_id": "8e9233820b754683ae3249ac2db17bb6",
       "version_major": 2,
       "version_minor": 0
      },
      "text/plain": [
       "Validating...:   0%|          | 0/157 [00:00<?, ?it/s]"
      ]
     },
     "metadata": {},
     "output_type": "display_data"
    },
    {
     "name": "stdout",
     "output_type": "stream",
     "text": [
      "\tTop-1 error: 24.00%\n",
      "\tTop-5 error: 6.76%\n",
      "\n",
      "Evaluating ResNet50:\n"
     ]
    },
    {
     "data": {
      "application/vnd.jupyter.widget-view+json": {
       "model_id": "d7dd859eee0a44f48e162642d06209ca",
       "version_major": 2,
       "version_minor": 0
      },
      "text/plain": [
       "Validating...:   0%|          | 0/157 [00:00<?, ?it/s]"
      ]
     },
     "metadata": {},
     "output_type": "display_data"
    },
    {
     "name": "stdout",
     "output_type": "stream",
     "text": [
      "\tTop-1 error: 13.24%\n",
      "\tTop-5 error: 1.96%\n",
      "\n",
      "Evaluating ResNet152:\n"
     ]
    },
    {
     "data": {
      "application/vnd.jupyter.widget-view+json": {
       "model_id": "a948dbd58daf473db3991f9fd5dfe12c",
       "version_major": 2,
       "version_minor": 0
      },
      "text/plain": [
       "Validating...:   0%|          | 0/157 [00:00<?, ?it/s]"
      ]
     },
     "metadata": {},
     "output_type": "display_data"
    },
    {
     "name": "stdout",
     "output_type": "stream",
     "text": [
      "\tTop-1 error: 8.34%\n",
      "\tTop-5 error: 0.64%\n",
      "\n",
      "Evaluating VGG16:\n"
     ]
    },
    {
     "data": {
      "application/vnd.jupyter.widget-view+json": {
       "model_id": "3e04cd3020a34304b1dd015c54614fbf",
       "version_major": 2,
       "version_minor": 0
      },
      "text/plain": [
       "Validating...:   0%|          | 0/157 [00:00<?, ?it/s]"
      ]
     },
     "metadata": {},
     "output_type": "display_data"
    },
    {
     "name": "stdout",
     "output_type": "stream",
     "text": [
      "\tTop-1 error: 21.92%\n",
      "\tTop-5 error: 5.62%\n",
      "\n",
      "Evaluating VGG19:\n"
     ]
    },
    {
     "data": {
      "application/vnd.jupyter.widget-view+json": {
       "model_id": "6581d5618e594b6e8b744bd60d4cbfc1",
       "version_major": 2,
       "version_minor": 0
      },
      "text/plain": [
       "Validating...:   0%|          | 0/157 [00:00<?, ?it/s]"
      ]
     },
     "metadata": {},
     "output_type": "display_data"
    },
    {
     "name": "stdout",
     "output_type": "stream",
     "text": [
      "\tTop-1 error: 21.18%\n",
      "\tTop-5 error: 5.14%\n"
     ]
    }
   ],
   "source": [
    "from torchvision import models\n",
    "from torchvision.models import ResNet18_Weights, ResNet50_Weights, ResNet152_Weights, VGG16_Weights, VGG19_Weights, RegNet_Y_128GF_Weights, ViT_H_14_Weights, ViT_L_16_Weights\n",
    "\n",
    "\n",
    "list_of_models = {\n",
    "    # \"RegNet_Y_128GF\": lambda: models.regnet_y_128gf(weights=RegNet_Y_128GF_Weights.DEFAULT),\t\t# 2.40GB\n",
    "    # \"ViT_H_14\": lambda: models.vit_h_14(weights=ViT_H_14_Weights.DEFAULT),\t\t\t\t\t\t# 2.36GB\n",
    "    # \"ViT_L_16\": lambda: models.vit_l_16(weights=ViT_L_16_Weights.DEFAULT),\t\t\t\t\t\t# 1.13GB\n",
    "    \"ResNet18\": lambda: models.resnet18(weights=ResNet18_Weights.DEFAULT),\n",
    "    \"ResNet50\": lambda: models.resnet50(weights=ResNet50_Weights.DEFAULT),\n",
    "    \"ResNet152\": lambda: models.resnet152(weights=ResNet152_Weights.DEFAULT),\n",
    "    \"VGG16\": lambda: models.vgg16(weights=VGG16_Weights.DEFAULT),\n",
    "    \"VGG19\": lambda: models.vgg19(weights=VGG19_Weights.DEFAULT),\n",
    "}\n",
    "\n",
    "\n",
    "for model_name, model_func in list_of_models.items():\n",
    "    print(f\"\\nEvaluating {model_name}:\")\n",
    "    model = load_model(model_func)\n",
    "    _ = eval_model(data_loader, model)"
   ]
  }
 ],
 "metadata": {
  "kernelspec": {
   "display_name": "Python 3",
   "language": "python",
   "name": "python3"
  },
  "language_info": {
   "codemirror_mode": {
    "name": "ipython",
    "version": 3
   },
   "file_extension": ".py",
   "mimetype": "text/x-python",
   "name": "python",
   "nbconvert_exporter": "python",
   "pygments_lexer": "ipython3",
   "version": "3.12.7"
  }
 },
 "nbformat": 4,
 "nbformat_minor": 2
}
