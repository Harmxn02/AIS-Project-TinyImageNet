{
 "cells": [
  {
   "cell_type": "markdown",
   "metadata": {},
   "source": [
    "# AI & Security Project\n",
    "\n",
    "**regular_models.ipynb**: in this notebook we try out several image classification models on our dataset 'TinyImageNet'. We use a wide variety of hyperparameters\n"
   ]
  },
  {
   "cell_type": "markdown",
   "metadata": {},
   "source": [
    "## Step 0: Configurations\n"
   ]
  },
  {
   "cell_type": "code",
   "execution_count": 1,
   "metadata": {},
   "outputs": [],
   "source": [
    "import warnings\n",
    "\n",
    "warnings.filterwarnings(\"ignore\")"
   ]
  },
  {
   "cell_type": "markdown",
   "metadata": {},
   "source": [
    "## Step 1. dataset and libraries\n"
   ]
  },
  {
   "cell_type": "code",
   "execution_count": 2,
   "metadata": {},
   "outputs": [],
   "source": [
    "import torch\n",
    "import torch.nn as nn\n",
    "import torch.optim as optim\n",
    "from torch.utils.data import DataLoader\n",
    "from torchvision import datasets, transforms, models\n",
    "from tqdm import tqdm\n",
    "import numpy as np\n",
    "\n",
    "\n",
    "data_directory = r\"./data/TinyImageNet/tiny-imagenet-200/\"\n",
    "device = torch.device(\"cuda\" if torch.cuda.is_available() else \"cpu\")"
   ]
  },
  {
   "cell_type": "code",
   "execution_count": 3,
   "metadata": {},
   "outputs": [],
   "source": [
    "import os\n",
    "import requests\n",
    "import zipfile\n",
    "import shutil\n",
    "\n",
    "def download_and_prepare_tinyimagenet(data_dir=\"tiny-imagenet\"):\n",
    "\t\"\"\"\n",
    "\tDownload and extract the TinyImageNet dataset, and prepare it for PyTorch's ImageFolder.\n",
    "\t\"\"\"\n",
    "\turl = \"http://cs231n.stanford.edu/tiny-imagenet-200.zip\"\n",
    "\tzip_file = \"tiny-imagenet-200.zip\"\n",
    "\textract_dir = \"tiny-imagenet-200\"\n",
    "\t\n",
    "\t# Create the directory if it doesn't exist\n",
    "\tif not os.path.exists(data_dir):\n",
    "\t\tos.makedirs(data_dir)\n",
    "\t\n",
    "\t# Download the dataset\n",
    "\tprint(\"Downloading TinyImageNet dataset...\")\n",
    "\tresponse = requests.get(url, stream=True)\n",
    "\twith open(os.path.join(data_dir, zip_file), \"wb\") as f:\n",
    "\t\tshutil.copyfileobj(response.raw, f)\n",
    "\tprint(\"Download complete.\")\n",
    "\t\n",
    "\t# Extract the dataset\n",
    "\tprint(\"Extracting dataset...\")\n",
    "\twith zipfile.ZipFile(os.path.join(data_dir, zip_file), \"r\") as zip_ref:\n",
    "\t\tzip_ref.extractall(data_dir)\n",
    "\tprint(\"Extraction complete.\")\n",
    "\t\n",
    "\t# Organize validation dataset\n",
    "\tval_dir = os.path.join(data_dir, extract_dir, \"val\")\n",
    "\tval_images_dir = os.path.join(val_dir, \"images\")\n",
    "\tval_annotations = os.path.join(val_dir, \"val_annotations.txt\")\n",
    "\t\n",
    "\t# Parse the validation annotations\n",
    "\tprint(\"Organizing validation dataset...\")\n",
    "\twith open(val_annotations, \"r\") as f:\n",
    "\t\tlines = f.readlines()\n",
    "\t\n",
    "\tval_labels = {}\n",
    "\tfor line in lines:\n",
    "\t\tparts = line.split(\"\\t\")\n",
    "\t\tval_labels[parts[0]] = parts[1]\n",
    "\t\n",
    "\t# Create subdirectories for validation classes\n",
    "\tfor label in set(val_labels.values()):\n",
    "\t\tos.makedirs(os.path.join(val_dir, label), exist_ok=True)\n",
    "\t\n",
    "\t# Move validation images to corresponding class subdirectories\n",
    "\tfor img, label in val_labels.items():\n",
    "\t\tsrc_path = os.path.join(val_images_dir, img)\n",
    "\t\tdst_path = os.path.join(val_dir, label, img)\n",
    "\t\tshutil.move(src_path, dst_path)\n",
    "\t\n",
    "\t# Remove the original images directory and annotation file\n",
    "\tshutil.rmtree(val_images_dir)\n",
    "\tos.remove(val_annotations)\n",
    "\t\n",
    "\tprint(\"Dataset is ready at:\", os.path.join(data_dir, extract_dir))\n",
    "\treturn os.path.join(data_dir, extract_dir)\n",
    "\n",
    "\n",
    "# Check if the dataset is already downloaded, by checking is /train/, /val/ and /test/ directories are present\n",
    "downloaded = os.path.exists(data_directory + \"train/\")\\\n",
    "    and os.path.exists(data_directory + \"test/\")\\\n",
    "    and os.path.exists(data_directory + \"val/\")\n",
    "\n",
    "\n",
    "if not downloaded:\n",
    "\tdataset_path = download_and_prepare_tinyimagenet(data_directory)\n",
    "\tprint(\"TinyImageNet dataset is available at:\", dataset_path)\n",
    "\n",
    "# This took 3m30 on my machine"
   ]
  },
  {
   "cell_type": "markdown",
   "metadata": {},
   "source": [
    "## Step 2: models"
   ]
  },
  {
   "cell_type": "code",
   "execution_count": 4,
   "metadata": {},
   "outputs": [],
   "source": [
    "# Model definitions\n",
    "model_definitions = {\n",
    "\t\"ResNet18\": lambda: models.resnet18(num_classes=200),\n",
    "\t\"VGG16\": lambda: models.vgg16(num_classes=200),\n",
    "\t\"DenseNet121\": lambda: models.densenet121(num_classes=200),\n",
    "\t\"MobileNetV2\": lambda: models.mobilenet_v2(num_classes=200),\n",
    "}\n",
    "\n",
    "# Model configurations (hyperparameters)\n",
    "model_configs = {\n",
    "    \"Config1\": {\"lr\": 0.01, \"optimizer\": \"SGD\", \"momentum\": 0.9, \"weight_decay\": 0.0005},\n",
    "    \"Config2\": {\"lr\": 0.001, \"optimizer\": \"Adam\", \"weight_decay\": 0.0001},\n",
    "    \"Config3\": {\"lr\": 0.0001, \"optimizer\": \"AdamW\", \"weight_decay\": 0.01}\n",
    "}\n",
    "\n",
    "# General hyperparameters\n",
    "hyperparameters = {\n",
    "\t'batch_size': 64,\n",
    "}"
   ]
  },
  {
   "cell_type": "markdown",
   "metadata": {},
   "source": [
    "## Step 3: set-up training loop"
   ]
  },
  {
   "cell_type": "code",
   "execution_count": 5,
   "metadata": {},
   "outputs": [],
   "source": [
    "# Step 1: Define TinyImageNet Dataset\n",
    "def get_tinyimagenet_loaders(data_dir, batch_size, num_workers=4):\n",
    "\t\"\"\"\n",
    "\tSet up data loaders for TinyImageNet dataset.\n",
    "\t\"\"\"\n",
    "\ttransform_train = transforms.Compose([\n",
    "\t\ttransforms.RandomCrop(64, padding=4),\n",
    "\t\ttransforms.RandomHorizontalFlip(),\n",
    "\t\ttransforms.ToTensor(),\n",
    "\t\ttransforms.Normalize(mean=[0.4802, 0.4481, 0.3975], std=[0.2302, 0.2265, 0.2262])\n",
    "\t])\n",
    "\n",
    "\ttransform_val = transforms.Compose([\n",
    "\t\ttransforms.ToTensor(),\n",
    "\t\ttransforms.Normalize(mean=[0.4802, 0.4481, 0.3975], std=[0.2302, 0.2265, 0.2262])\n",
    "\t])\n",
    "\n",
    "\ttrain_dataset = datasets.ImageFolder(root=f\"{data_dir}/train\", transform=transform_train)\n",
    "\tval_dataset = datasets.ImageFolder(root=f\"{data_dir}/val\", transform=transform_val)\n",
    "\n",
    "\ttrain_loader = DataLoader(train_dataset, batch_size=batch_size, shuffle=True, num_workers=num_workers)\n",
    "\tval_loader = DataLoader(val_dataset, batch_size=batch_size, shuffle=False, num_workers=num_workers)\n",
    "\n",
    "\treturn train_loader, val_loader\n",
    "\n",
    "# Step 2: Define Training and Evaluation Functions\n",
    "def train_one_epoch(model, loader, criterion, optimizer, device):\n",
    "\t\"\"\"\n",
    "\tTrain the model for one epoch.\n",
    "\t\"\"\"\n",
    "\tmodel.train()\n",
    "\trunning_loss = 0.0\n",
    "\tcorrect = 0\n",
    "\ttotal = 0\n",
    "\n",
    "\tfor inputs, targets in tqdm(loader, desc=\"Training\"):\n",
    "\t\tinputs, targets = inputs.to(device), targets.to(device)\n",
    "\t\toptimizer.zero_grad()\n",
    "\n",
    "\t\toutputs = model(inputs)\n",
    "\t\tloss = criterion(outputs, targets)\n",
    "\t\tloss.backward()\n",
    "\t\toptimizer.step()\n",
    "\n",
    "\t\trunning_loss += loss.item() * inputs.size(0)\n",
    "\t\t_, predicted = outputs.max(1)\n",
    "\t\tcorrect += predicted.eq(targets).sum().item()\n",
    "\t\ttotal += targets.size(0)\n",
    "\n",
    "\tepoch_loss = running_loss / total\n",
    "\taccuracy = correct / total\n",
    "\treturn epoch_loss, accuracy\n",
    "\n",
    "def evaluate(model, loader, criterion, device):\n",
    "\t\"\"\"\n",
    "\tEvaluate the model on validation data and compute top-1 and top-5 errors.\n",
    "\t\"\"\"\n",
    "\tmodel.eval()\n",
    "\trunning_loss = 0.0\n",
    "\ttop1_correct = 0\n",
    "\ttotal = 0\n",
    "\ttop5_correct = 0\n",
    "\n",
    "\twith torch.no_grad():\n",
    "\t\tfor inputs, targets in tqdm(loader, desc=\"Validation\"):\n",
    "\t\t\tinputs, targets = inputs.to(device), targets.to(device)\n",
    "\n",
    "\t\t\toutputs = model(inputs)\n",
    "\t\t\tloss = criterion(outputs, targets)\n",
    "\t\t\trunning_loss += loss.item() * inputs.size(0)\n",
    "\n",
    "\t\t\t_, top1_preds = outputs.max(1)\n",
    "\t\t\ttop1_correct += top1_preds.eq(targets).sum().item()\n",
    "\n",
    "\t\t\t_, top5_preds = outputs.topk(5, 1, True, True)\n",
    "\t\t\ttop5_correct += sum([targets[i] in top5_preds[i] for i in range(targets.size(0))])\n",
    "\t\t\ttotal += targets.size(0)\n",
    "\n",
    "\tepoch_loss = running_loss / total\n",
    "\ttop1_error = 1 - (top1_correct / total)\n",
    "\ttop5_error = 1 - (top5_correct / total)\n",
    "\n",
    "\treturn epoch_loss, top1_error, top5_error\n",
    "\n",
    "# Step 3: Define Model Training and Comparison\n",
    "def compare_models(models, model_configs, hyperparameters, data_dir, num_epochs, device=\"cuda\"):\n",
    "\t\"\"\"\n",
    "\tTrain and evaluate multiple models with different configurations.\n",
    "\t\"\"\"\n",
    "\tresults = []\n",
    "\n",
    "\ttrain_loader, val_loader = get_tinyimagenet_loaders(data_dir, batch_size=hyperparameters['batch_size'])\n",
    "\n",
    "\tfor model_name, model_fn in models.items():\n",
    "\t\tfor config_name, config in model_configs.items():\n",
    "\t\t\tprint(f\"Training {model_name} with {config_name} configuration...\")\n",
    "\t\t\tmodel = model_fn().to(device)\n",
    "\t\t\t\n",
    "\t\t\t# Select optimizer based on config\n",
    "\t\t\tif config['optimizer'] == 'SGD':\n",
    "\t\t\t\toptimizer = optim.SGD(model.parameters(), lr=config['lr'], momentum=config['momentum'], weight_decay=config['weight_decay'])\n",
    "\t\t\telif config['optimizer'] == 'Adam':\n",
    "\t\t\t\toptimizer = optim.Adam(model.parameters(), lr=config['lr'], weight_decay=config['weight_decay'])\n",
    "\t\t\telif config['optimizer'] == 'AdamW':\n",
    "\t\t\t\toptimizer = optim.AdamW(model.parameters(), lr=config['lr'], weight_decay=config['weight_decay'])\n",
    "\n",
    "\t\t\tcriterion = nn.CrossEntropyLoss()\n",
    "\n",
    "\t\t\tfor epoch in range(num_epochs):\n",
    "\t\t\t\tprint(f\"Epoch {epoch + 1}/{num_epochs}\")\n",
    "\t\t\t\ttrain_loss, train_acc = train_one_epoch(model, train_loader, criterion, optimizer, device)\n",
    "\t\t\t\tval_loss, top1_error, top5_error = evaluate(model, val_loader, criterion, device)\n",
    "\n",
    "\t\t\t\tprint(f\"Validation Loss: {val_loss:.4f}, Top-1 Error: {top1_error:.4f}, Top-5 Error: {top5_error:.4f}\")\n",
    "\t\t\t\tresults.append({\n",
    "\t\t\t\t\t'model': model_name,\n",
    "\t\t\t\t\t'config': config_name,\n",
    "\t\t\t\t\t'epoch': epoch + 1,\n",
    "\t\t\t\t\t'train_loss': train_loss,\n",
    "\t\t\t\t\t'train_acc': train_acc,\n",
    "\t\t\t\t\t'val_loss': val_loss,\n",
    "\t\t\t\t\t'top1_error': top1_error,\n",
    "\t\t\t\t\t'top5_error': top5_error\n",
    "\t\t\t\t})\n",
    "\n",
    "\treturn results\n"
   ]
  },
  {
   "cell_type": "markdown",
   "metadata": {},
   "source": [
    "## Step 4: train and evaluate"
   ]
  },
  {
   "cell_type": "code",
   "execution_count": 6,
   "metadata": {},
   "outputs": [
    {
     "name": "stdout",
     "output_type": "stream",
     "text": [
      "Training ResNet18 with Config1 configuration...\n",
      "Epoch 1/5\n"
     ]
    },
    {
     "name": "stderr",
     "output_type": "stream",
     "text": [
      "Training: 100%|██████████| 1563/1563 [02:58<00:00,  8.77it/s]\n",
      "Validation: 100%|██████████| 157/157 [00:32<00:00,  4.76it/s]\n"
     ]
    },
    {
     "name": "stdout",
     "output_type": "stream",
     "text": [
      "Validation Loss: 3.9184, Top-1 Error: 0.8504, Top-5 Error: 0.6279\n",
      "Epoch 2/5\n"
     ]
    },
    {
     "name": "stderr",
     "output_type": "stream",
     "text": [
      "Training: 100%|██████████| 1563/1563 [00:46<00:00, 33.51it/s]\n",
      "Validation: 100%|██████████| 157/157 [00:16<00:00,  9.52it/s]\n"
     ]
    },
    {
     "name": "stdout",
     "output_type": "stream",
     "text": [
      "Validation Loss: 3.4336, Top-1 Error: 0.7813, Top-5 Error: 0.5180\n",
      "Epoch 3/5\n"
     ]
    },
    {
     "name": "stderr",
     "output_type": "stream",
     "text": [
      "Training: 100%|██████████| 1563/1563 [00:46<00:00, 33.31it/s]\n",
      "Validation: 100%|██████████| 157/157 [00:16<00:00,  9.47it/s]\n"
     ]
    },
    {
     "name": "stdout",
     "output_type": "stream",
     "text": [
      "Validation Loss: 3.2111, Top-1 Error: 0.7386, Top-5 Error: 0.4689\n",
      "Epoch 4/5\n"
     ]
    },
    {
     "name": "stderr",
     "output_type": "stream",
     "text": [
      "Training: 100%|██████████| 1563/1563 [00:46<00:00, 33.36it/s]\n",
      "Validation: 100%|██████████| 157/157 [00:16<00:00,  9.48it/s]\n"
     ]
    },
    {
     "name": "stdout",
     "output_type": "stream",
     "text": [
      "Validation Loss: 3.1634, Top-1 Error: 0.7212, Top-5 Error: 0.4595\n",
      "Epoch 5/5\n"
     ]
    },
    {
     "name": "stderr",
     "output_type": "stream",
     "text": [
      "Training: 100%|██████████| 1563/1563 [00:46<00:00, 33.76it/s]\n",
      "Validation: 100%|██████████| 157/157 [00:16<00:00,  9.52it/s]\n"
     ]
    },
    {
     "name": "stdout",
     "output_type": "stream",
     "text": [
      "Validation Loss: 3.0013, Top-1 Error: 0.6939, Top-5 Error: 0.4213\n",
      "Training ResNet18 with Config2 configuration...\n",
      "Epoch 1/5\n"
     ]
    },
    {
     "name": "stderr",
     "output_type": "stream",
     "text": [
      "Training: 100%|██████████| 1563/1563 [00:49<00:00, 31.44it/s]\n",
      "Validation: 100%|██████████| 157/157 [00:16<00:00,  9.64it/s]\n"
     ]
    },
    {
     "name": "stdout",
     "output_type": "stream",
     "text": [
      "Validation Loss: 3.8614, Top-1 Error: 0.8422, Top-5 Error: 0.6245\n",
      "Epoch 2/5\n"
     ]
    },
    {
     "name": "stderr",
     "output_type": "stream",
     "text": [
      "Training: 100%|██████████| 1563/1563 [00:49<00:00, 31.47it/s]\n",
      "Validation: 100%|██████████| 157/157 [00:16<00:00,  9.58it/s]\n"
     ]
    },
    {
     "name": "stdout",
     "output_type": "stream",
     "text": [
      "Validation Loss: 3.4007, Top-1 Error: 0.7759, Top-5 Error: 0.5159\n",
      "Epoch 3/5\n"
     ]
    },
    {
     "name": "stderr",
     "output_type": "stream",
     "text": [
      "Training: 100%|██████████| 1563/1563 [00:48<00:00, 32.08it/s]\n",
      "Validation: 100%|██████████| 157/157 [00:16<00:00,  9.65it/s]\n"
     ]
    },
    {
     "name": "stdout",
     "output_type": "stream",
     "text": [
      "Validation Loss: 3.1954, Top-1 Error: 0.7408, Top-5 Error: 0.4717\n",
      "Epoch 4/5\n"
     ]
    },
    {
     "name": "stderr",
     "output_type": "stream",
     "text": [
      "Training: 100%|██████████| 1563/1563 [00:48<00:00, 32.12it/s]\n",
      "Validation: 100%|██████████| 157/157 [00:16<00:00,  9.60it/s]\n"
     ]
    },
    {
     "name": "stdout",
     "output_type": "stream",
     "text": [
      "Validation Loss: 2.9582, Top-1 Error: 0.6851, Top-5 Error: 0.4152\n",
      "Epoch 5/5\n"
     ]
    },
    {
     "name": "stderr",
     "output_type": "stream",
     "text": [
      "Training: 100%|██████████| 1563/1563 [00:48<00:00, 32.08it/s]\n",
      "Validation: 100%|██████████| 157/157 [00:16<00:00,  9.60it/s]\n"
     ]
    },
    {
     "name": "stdout",
     "output_type": "stream",
     "text": [
      "Validation Loss: 2.8725, Top-1 Error: 0.6752, Top-5 Error: 0.3992\n",
      "Training ResNet18 with Config3 configuration...\n",
      "Epoch 1/5\n"
     ]
    },
    {
     "name": "stderr",
     "output_type": "stream",
     "text": [
      "Training: 100%|██████████| 1563/1563 [00:48<00:00, 32.29it/s]\n",
      "Validation: 100%|██████████| 157/157 [00:16<00:00,  9.62it/s]\n"
     ]
    },
    {
     "name": "stdout",
     "output_type": "stream",
     "text": [
      "Validation Loss: 3.9236, Top-1 Error: 0.8506, Top-5 Error: 0.6355\n",
      "Epoch 2/5\n"
     ]
    },
    {
     "name": "stderr",
     "output_type": "stream",
     "text": [
      "Training: 100%|██████████| 1563/1563 [00:48<00:00, 32.17it/s]\n",
      "Validation: 100%|██████████| 157/157 [00:16<00:00,  9.65it/s]\n"
     ]
    },
    {
     "name": "stdout",
     "output_type": "stream",
     "text": [
      "Validation Loss: 3.4820, Top-1 Error: 0.7795, Top-5 Error: 0.5319\n",
      "Epoch 3/5\n"
     ]
    },
    {
     "name": "stderr",
     "output_type": "stream",
     "text": [
      "Training: 100%|██████████| 1563/1563 [00:48<00:00, 32.08it/s]\n",
      "Validation: 100%|██████████| 157/157 [00:16<00:00,  9.57it/s]\n"
     ]
    },
    {
     "name": "stdout",
     "output_type": "stream",
     "text": [
      "Validation Loss: 3.2687, Top-1 Error: 0.7422, Top-5 Error: 0.4837\n",
      "Epoch 4/5\n"
     ]
    },
    {
     "name": "stderr",
     "output_type": "stream",
     "text": [
      "Training: 100%|██████████| 1563/1563 [00:48<00:00, 32.20it/s]\n",
      "Validation: 100%|██████████| 157/157 [00:16<00:00,  9.67it/s]\n"
     ]
    },
    {
     "name": "stdout",
     "output_type": "stream",
     "text": [
      "Validation Loss: 3.0901, Top-1 Error: 0.7082, Top-5 Error: 0.4460\n",
      "Epoch 5/5\n"
     ]
    },
    {
     "name": "stderr",
     "output_type": "stream",
     "text": [
      "Training: 100%|██████████| 1563/1563 [00:48<00:00, 32.12it/s]\n",
      "Validation: 100%|██████████| 157/157 [00:16<00:00,  9.66it/s]\n"
     ]
    },
    {
     "name": "stdout",
     "output_type": "stream",
     "text": [
      "Validation Loss: 2.9924, Top-1 Error: 0.6928, Top-5 Error: 0.4234\n",
      "Training VGG16 with Config1 configuration...\n",
      "Epoch 1/5\n"
     ]
    },
    {
     "name": "stderr",
     "output_type": "stream",
     "text": [
      "Training: 100%|██████████| 1563/1563 [02:53<00:00,  9.03it/s]\n",
      "Validation: 100%|██████████| 157/157 [00:19<00:00,  8.08it/s]\n"
     ]
    },
    {
     "name": "stdout",
     "output_type": "stream",
     "text": [
      "Validation Loss: 5.1862, Top-1 Error: 0.9855, Top-5 Error: 0.9447\n",
      "Epoch 2/5\n"
     ]
    },
    {
     "name": "stderr",
     "output_type": "stream",
     "text": [
      "Training: 100%|██████████| 1563/1563 [02:53<00:00,  9.03it/s]\n",
      "Validation: 100%|██████████| 157/157 [00:19<00:00,  8.02it/s]\n"
     ]
    },
    {
     "name": "stdout",
     "output_type": "stream",
     "text": [
      "Validation Loss: 4.8004, Top-1 Error: 0.9643, Top-5 Error: 0.8684\n",
      "Epoch 3/5\n"
     ]
    },
    {
     "name": "stderr",
     "output_type": "stream",
     "text": [
      "Training: 100%|██████████| 1563/1563 [02:53<00:00,  9.03it/s]\n",
      "Validation: 100%|██████████| 157/157 [00:19<00:00,  8.07it/s]\n"
     ]
    },
    {
     "name": "stdout",
     "output_type": "stream",
     "text": [
      "Validation Loss: 4.3603, Top-1 Error: 0.9209, Top-5 Error: 0.7543\n",
      "Epoch 4/5\n"
     ]
    },
    {
     "name": "stderr",
     "output_type": "stream",
     "text": [
      "Training: 100%|██████████| 1563/1563 [02:53<00:00,  9.03it/s]\n",
      "Validation: 100%|██████████| 157/157 [00:19<00:00,  8.14it/s]\n"
     ]
    },
    {
     "name": "stdout",
     "output_type": "stream",
     "text": [
      "Validation Loss: 4.0215, Top-1 Error: 0.8784, Top-5 Error: 0.6703\n",
      "Epoch 5/5\n"
     ]
    },
    {
     "name": "stderr",
     "output_type": "stream",
     "text": [
      "Training: 100%|██████████| 1563/1563 [02:52<00:00,  9.04it/s]\n",
      "Validation: 100%|██████████| 157/157 [00:19<00:00,  8.04it/s]\n"
     ]
    },
    {
     "name": "stdout",
     "output_type": "stream",
     "text": [
      "Validation Loss: 3.8027, Top-1 Error: 0.8528, Top-5 Error: 0.6142\n",
      "Training VGG16 with Config2 configuration...\n",
      "Epoch 1/5\n"
     ]
    },
    {
     "name": "stderr",
     "output_type": "stream",
     "text": [
      "Training: 100%|██████████| 1563/1563 [03:21<00:00,  7.75it/s]\n",
      "Validation: 100%|██████████| 157/157 [00:19<00:00,  8.06it/s]\n"
     ]
    },
    {
     "name": "stdout",
     "output_type": "stream",
     "text": [
      "Validation Loss: 5.2983, Top-1 Error: 0.9950, Top-5 Error: 0.9750\n",
      "Epoch 2/5\n"
     ]
    },
    {
     "name": "stderr",
     "output_type": "stream",
     "text": [
      "Training: 100%|██████████| 1563/1563 [03:21<00:00,  7.74it/s]\n",
      "Validation: 100%|██████████| 157/157 [00:19<00:00,  8.08it/s]\n"
     ]
    },
    {
     "name": "stdout",
     "output_type": "stream",
     "text": [
      "Validation Loss: 5.2987, Top-1 Error: 0.9950, Top-5 Error: 0.9750\n",
      "Epoch 3/5\n"
     ]
    },
    {
     "name": "stderr",
     "output_type": "stream",
     "text": [
      "Training: 100%|██████████| 1563/1563 [03:21<00:00,  7.75it/s]\n",
      "Validation: 100%|██████████| 157/157 [00:19<00:00,  8.04it/s]\n"
     ]
    },
    {
     "name": "stdout",
     "output_type": "stream",
     "text": [
      "Validation Loss: 5.2990, Top-1 Error: 0.9950, Top-5 Error: 0.9750\n",
      "Epoch 4/5\n"
     ]
    },
    {
     "name": "stderr",
     "output_type": "stream",
     "text": [
      "Training: 100%|██████████| 1563/1563 [03:21<00:00,  7.76it/s]\n",
      "Validation: 100%|██████████| 157/157 [00:19<00:00,  8.06it/s]\n"
     ]
    },
    {
     "name": "stdout",
     "output_type": "stream",
     "text": [
      "Validation Loss: 5.2989, Top-1 Error: 0.9950, Top-5 Error: 0.9750\n",
      "Epoch 5/5\n"
     ]
    },
    {
     "name": "stderr",
     "output_type": "stream",
     "text": [
      "Training: 100%|██████████| 1563/1563 [03:21<00:00,  7.76it/s]\n",
      "Validation: 100%|██████████| 157/157 [00:19<00:00,  8.08it/s]\n"
     ]
    },
    {
     "name": "stdout",
     "output_type": "stream",
     "text": [
      "Validation Loss: 5.2985, Top-1 Error: 0.9950, Top-5 Error: 0.9750\n",
      "Training VGG16 with Config3 configuration...\n",
      "Epoch 1/5\n"
     ]
    },
    {
     "name": "stderr",
     "output_type": "stream",
     "text": [
      "Training: 100%|██████████| 1563/1563 [03:19<00:00,  7.84it/s]\n",
      "Validation: 100%|██████████| 157/157 [00:19<00:00,  8.07it/s]\n"
     ]
    },
    {
     "name": "stdout",
     "output_type": "stream",
     "text": [
      "Validation Loss: 5.2983, Top-1 Error: 0.9950, Top-5 Error: 0.9750\n",
      "Epoch 2/5\n"
     ]
    },
    {
     "name": "stderr",
     "output_type": "stream",
     "text": [
      "Training: 100%|██████████| 1563/1563 [03:18<00:00,  7.86it/s]\n",
      "Validation: 100%|██████████| 157/157 [00:19<00:00,  8.00it/s]\n"
     ]
    },
    {
     "name": "stdout",
     "output_type": "stream",
     "text": [
      "Validation Loss: 5.2983, Top-1 Error: 0.9950, Top-5 Error: 0.9750\n",
      "Epoch 3/5\n"
     ]
    },
    {
     "name": "stderr",
     "output_type": "stream",
     "text": [
      "Training: 100%|██████████| 1563/1563 [03:17<00:00,  7.92it/s]\n",
      "Validation: 100%|██████████| 157/157 [00:19<00:00,  8.05it/s]\n"
     ]
    },
    {
     "name": "stdout",
     "output_type": "stream",
     "text": [
      "Validation Loss: 5.2983, Top-1 Error: 0.9950, Top-5 Error: 0.9750\n",
      "Epoch 4/5\n"
     ]
    },
    {
     "name": "stderr",
     "output_type": "stream",
     "text": [
      "Training: 100%|██████████| 1563/1563 [03:18<00:00,  7.87it/s]\n",
      "Validation: 100%|██████████| 157/157 [00:19<00:00,  8.01it/s]\n"
     ]
    },
    {
     "name": "stdout",
     "output_type": "stream",
     "text": [
      "Validation Loss: 5.2983, Top-1 Error: 0.9950, Top-5 Error: 0.9750\n",
      "Epoch 5/5\n"
     ]
    },
    {
     "name": "stderr",
     "output_type": "stream",
     "text": [
      "Training: 100%|██████████| 1563/1563 [03:19<00:00,  7.84it/s]\n",
      "Validation: 100%|██████████| 157/157 [00:19<00:00,  7.92it/s]\n"
     ]
    },
    {
     "name": "stdout",
     "output_type": "stream",
     "text": [
      "Validation Loss: 5.2983, Top-1 Error: 0.9950, Top-5 Error: 0.9750\n",
      "Training DenseNet121 with Config1 configuration...\n",
      "Epoch 1/5\n"
     ]
    },
    {
     "name": "stderr",
     "output_type": "stream",
     "text": [
      "Training: 100%|██████████| 1563/1563 [02:23<00:00, 10.93it/s]\n",
      "Validation: 100%|██████████| 157/157 [00:19<00:00,  7.91it/s]\n"
     ]
    },
    {
     "name": "stdout",
     "output_type": "stream",
     "text": [
      "Validation Loss: 3.8951, Top-1 Error: 0.8511, Top-5 Error: 0.6272\n",
      "Epoch 2/5\n"
     ]
    },
    {
     "name": "stderr",
     "output_type": "stream",
     "text": [
      "Training: 100%|██████████| 1563/1563 [02:30<00:00, 10.42it/s]\n",
      "Validation: 100%|██████████| 157/157 [00:19<00:00,  7.91it/s]\n"
     ]
    },
    {
     "name": "stdout",
     "output_type": "stream",
     "text": [
      "Validation Loss: 3.3820, Top-1 Error: 0.7659, Top-5 Error: 0.5065\n",
      "Epoch 3/5\n"
     ]
    },
    {
     "name": "stderr",
     "output_type": "stream",
     "text": [
      "Training: 100%|██████████| 1563/1563 [02:22<00:00, 10.96it/s]\n",
      "Validation: 100%|██████████| 157/157 [00:19<00:00,  8.17it/s]\n"
     ]
    },
    {
     "name": "stdout",
     "output_type": "stream",
     "text": [
      "Validation Loss: 3.1471, Top-1 Error: 0.7254, Top-5 Error: 0.4505\n",
      "Epoch 4/5\n"
     ]
    },
    {
     "name": "stderr",
     "output_type": "stream",
     "text": [
      "Training: 100%|██████████| 1563/1563 [02:20<00:00, 11.14it/s]\n",
      "Validation: 100%|██████████| 157/157 [00:19<00:00,  7.99it/s]\n"
     ]
    },
    {
     "name": "stdout",
     "output_type": "stream",
     "text": [
      "Validation Loss: 2.9507, Top-1 Error: 0.6867, Top-5 Error: 0.4151\n",
      "Epoch 5/5\n"
     ]
    },
    {
     "name": "stderr",
     "output_type": "stream",
     "text": [
      "Training: 100%|██████████| 1563/1563 [02:20<00:00, 11.15it/s]\n",
      "Validation: 100%|██████████| 157/157 [00:19<00:00,  8.09it/s]\n"
     ]
    },
    {
     "name": "stdout",
     "output_type": "stream",
     "text": [
      "Validation Loss: 2.7579, Top-1 Error: 0.6510, Top-5 Error: 0.3725\n",
      "Training DenseNet121 with Config2 configuration...\n",
      "Epoch 1/5\n"
     ]
    },
    {
     "name": "stderr",
     "output_type": "stream",
     "text": [
      "Training: 100%|██████████| 1563/1563 [02:22<00:00, 10.94it/s]\n",
      "Validation: 100%|██████████| 157/157 [00:18<00:00,  8.35it/s]\n"
     ]
    },
    {
     "name": "stdout",
     "output_type": "stream",
     "text": [
      "Validation Loss: 3.8512, Top-1 Error: 0.8228, Top-5 Error: 0.5847\n",
      "Epoch 2/5\n"
     ]
    },
    {
     "name": "stderr",
     "output_type": "stream",
     "text": [
      "Training: 100%|██████████| 1563/1563 [02:22<00:00, 11.00it/s]\n",
      "Validation: 100%|██████████| 157/157 [00:19<00:00,  8.16it/s]\n"
     ]
    },
    {
     "name": "stdout",
     "output_type": "stream",
     "text": [
      "Validation Loss: 3.2054, Top-1 Error: 0.7381, Top-5 Error: 0.4697\n",
      "Epoch 3/5\n"
     ]
    },
    {
     "name": "stderr",
     "output_type": "stream",
     "text": [
      "Training: 100%|██████████| 1563/1563 [02:19<00:00, 11.23it/s]\n",
      "Validation: 100%|██████████| 157/157 [00:19<00:00,  8.16it/s]\n"
     ]
    },
    {
     "name": "stdout",
     "output_type": "stream",
     "text": [
      "Validation Loss: 2.9979, Top-1 Error: 0.7012, Top-5 Error: 0.4249\n",
      "Epoch 4/5\n"
     ]
    },
    {
     "name": "stderr",
     "output_type": "stream",
     "text": [
      "Training: 100%|██████████| 1563/1563 [02:24<00:00, 10.84it/s]\n",
      "Validation: 100%|██████████| 157/157 [00:18<00:00,  8.29it/s]\n"
     ]
    },
    {
     "name": "stdout",
     "output_type": "stream",
     "text": [
      "Validation Loss: 2.8423, Top-1 Error: 0.6692, Top-5 Error: 0.3887\n",
      "Epoch 5/5\n"
     ]
    },
    {
     "name": "stderr",
     "output_type": "stream",
     "text": [
      "Training: 100%|██████████| 1563/1563 [02:23<00:00, 10.88it/s]\n",
      "Validation: 100%|██████████| 157/157 [00:19<00:00,  8.01it/s]\n"
     ]
    },
    {
     "name": "stdout",
     "output_type": "stream",
     "text": [
      "Validation Loss: 2.6720, Top-1 Error: 0.6334, Top-5 Error: 0.3546\n",
      "Training DenseNet121 with Config3 configuration...\n",
      "Epoch 1/5\n"
     ]
    },
    {
     "name": "stderr",
     "output_type": "stream",
     "text": [
      "Training: 100%|██████████| 1563/1563 [02:23<00:00, 10.89it/s]\n",
      "Validation: 100%|██████████| 157/157 [00:19<00:00,  8.12it/s]\n"
     ]
    },
    {
     "name": "stdout",
     "output_type": "stream",
     "text": [
      "Validation Loss: 4.0457, Top-1 Error: 0.8642, Top-5 Error: 0.6600\n",
      "Epoch 2/5\n"
     ]
    },
    {
     "name": "stderr",
     "output_type": "stream",
     "text": [
      "Training: 100%|██████████| 1563/1563 [02:22<00:00, 10.95it/s]\n",
      "Validation: 100%|██████████| 157/157 [00:19<00:00,  8.15it/s]\n"
     ]
    },
    {
     "name": "stdout",
     "output_type": "stream",
     "text": [
      "Validation Loss: 3.5809, Top-1 Error: 0.8001, Top-5 Error: 0.5519\n",
      "Epoch 3/5\n"
     ]
    },
    {
     "name": "stderr",
     "output_type": "stream",
     "text": [
      "Training: 100%|██████████| 1563/1563 [02:22<00:00, 11.00it/s]\n",
      "Validation: 100%|██████████| 157/157 [00:19<00:00,  8.25it/s]\n"
     ]
    },
    {
     "name": "stdout",
     "output_type": "stream",
     "text": [
      "Validation Loss: 3.3389, Top-1 Error: 0.7539, Top-5 Error: 0.4974\n",
      "Epoch 4/5\n"
     ]
    },
    {
     "name": "stderr",
     "output_type": "stream",
     "text": [
      "Training: 100%|██████████| 1563/1563 [02:24<00:00, 10.78it/s]\n",
      "Validation: 100%|██████████| 157/157 [00:20<00:00,  7.77it/s]\n"
     ]
    },
    {
     "name": "stdout",
     "output_type": "stream",
     "text": [
      "Validation Loss: 3.2167, Top-1 Error: 0.7313, Top-5 Error: 0.4712\n",
      "Epoch 5/5\n"
     ]
    },
    {
     "name": "stderr",
     "output_type": "stream",
     "text": [
      "Training: 100%|██████████| 1563/1563 [02:23<00:00, 10.93it/s]\n",
      "Validation: 100%|██████████| 157/157 [00:18<00:00,  8.34it/s]\n"
     ]
    },
    {
     "name": "stdout",
     "output_type": "stream",
     "text": [
      "Validation Loss: 3.0307, Top-1 Error: 0.7002, Top-5 Error: 0.4318\n",
      "Training MobileNetV2 with Config1 configuration...\n",
      "Epoch 1/5\n"
     ]
    },
    {
     "name": "stderr",
     "output_type": "stream",
     "text": [
      "Training: 100%|██████████| 1563/1563 [01:01<00:00, 25.56it/s]\n",
      "Validation: 100%|██████████| 157/157 [00:19<00:00,  8.23it/s]\n"
     ]
    },
    {
     "name": "stdout",
     "output_type": "stream",
     "text": [
      "Validation Loss: 4.3741, Top-1 Error: 0.9141, Top-5 Error: 0.7500\n",
      "Epoch 2/5\n"
     ]
    },
    {
     "name": "stderr",
     "output_type": "stream",
     "text": [
      "Training: 100%|██████████| 1563/1563 [01:06<00:00, 23.46it/s]\n",
      "Validation: 100%|██████████| 157/157 [00:17<00:00,  8.94it/s]\n"
     ]
    },
    {
     "name": "stdout",
     "output_type": "stream",
     "text": [
      "Validation Loss: 3.8459, Top-1 Error: 0.8473, Top-5 Error: 0.6126\n",
      "Epoch 3/5\n"
     ]
    },
    {
     "name": "stderr",
     "output_type": "stream",
     "text": [
      "Training: 100%|██████████| 1563/1563 [01:03<00:00, 24.80it/s]\n",
      "Validation: 100%|██████████| 157/157 [00:17<00:00,  9.06it/s]\n"
     ]
    },
    {
     "name": "stdout",
     "output_type": "stream",
     "text": [
      "Validation Loss: 3.5633, Top-1 Error: 0.8070, Top-5 Error: 0.5479\n",
      "Epoch 4/5\n"
     ]
    },
    {
     "name": "stderr",
     "output_type": "stream",
     "text": [
      "Training: 100%|██████████| 1563/1563 [01:05<00:00, 24.04it/s]\n",
      "Validation: 100%|██████████| 157/157 [00:17<00:00,  8.87it/s]\n"
     ]
    },
    {
     "name": "stdout",
     "output_type": "stream",
     "text": [
      "Validation Loss: 3.4388, Top-1 Error: 0.7866, Top-5 Error: 0.5189\n",
      "Epoch 5/5\n"
     ]
    },
    {
     "name": "stderr",
     "output_type": "stream",
     "text": [
      "Training: 100%|██████████| 1563/1563 [01:01<00:00, 25.38it/s]\n",
      "Validation: 100%|██████████| 157/157 [00:17<00:00,  9.05it/s]\n"
     ]
    },
    {
     "name": "stdout",
     "output_type": "stream",
     "text": [
      "Validation Loss: 3.2532, Top-1 Error: 0.7546, Top-5 Error: 0.4792\n",
      "Training MobileNetV2 with Config2 configuration...\n",
      "Epoch 1/5\n"
     ]
    },
    {
     "name": "stderr",
     "output_type": "stream",
     "text": [
      "Training: 100%|██████████| 1563/1563 [01:04<00:00, 24.33it/s]\n",
      "Validation: 100%|██████████| 157/157 [00:17<00:00,  9.18it/s]\n"
     ]
    },
    {
     "name": "stdout",
     "output_type": "stream",
     "text": [
      "Validation Loss: 4.4675, Top-1 Error: 0.9365, Top-5 Error: 0.7814\n",
      "Epoch 2/5\n"
     ]
    },
    {
     "name": "stderr",
     "output_type": "stream",
     "text": [
      "Training: 100%|██████████| 1563/1563 [01:03<00:00, 24.52it/s]\n",
      "Validation: 100%|██████████| 157/157 [00:17<00:00,  8.96it/s]\n"
     ]
    },
    {
     "name": "stdout",
     "output_type": "stream",
     "text": [
      "Validation Loss: 4.0153, Top-1 Error: 0.8845, Top-5 Error: 0.6700\n",
      "Epoch 3/5\n"
     ]
    },
    {
     "name": "stderr",
     "output_type": "stream",
     "text": [
      "Training: 100%|██████████| 1563/1563 [01:03<00:00, 24.45it/s]\n",
      "Validation: 100%|██████████| 157/157 [00:16<00:00,  9.24it/s]\n"
     ]
    },
    {
     "name": "stdout",
     "output_type": "stream",
     "text": [
      "Validation Loss: 3.7443, Top-1 Error: 0.8487, Top-5 Error: 0.5981\n",
      "Epoch 4/5\n"
     ]
    },
    {
     "name": "stderr",
     "output_type": "stream",
     "text": [
      "Training: 100%|██████████| 1563/1563 [01:04<00:00, 24.34it/s]\n",
      "Validation: 100%|██████████| 157/157 [00:17<00:00,  9.01it/s]\n"
     ]
    },
    {
     "name": "stdout",
     "output_type": "stream",
     "text": [
      "Validation Loss: 3.5588, Top-1 Error: 0.8141, Top-5 Error: 0.5557\n",
      "Epoch 5/5\n"
     ]
    },
    {
     "name": "stderr",
     "output_type": "stream",
     "text": [
      "Training: 100%|██████████| 1563/1563 [01:03<00:00, 24.77it/s]\n",
      "Validation: 100%|██████████| 157/157 [00:17<00:00,  8.94it/s]\n"
     ]
    },
    {
     "name": "stdout",
     "output_type": "stream",
     "text": [
      "Validation Loss: 3.4001, Top-1 Error: 0.7858, Top-5 Error: 0.5143\n",
      "Training MobileNetV2 with Config3 configuration...\n",
      "Epoch 1/5\n"
     ]
    },
    {
     "name": "stderr",
     "output_type": "stream",
     "text": [
      "Training: 100%|██████████| 1563/1563 [01:02<00:00, 24.94it/s]\n",
      "Validation: 100%|██████████| 157/157 [00:16<00:00,  9.43it/s]\n"
     ]
    },
    {
     "name": "stdout",
     "output_type": "stream",
     "text": [
      "Validation Loss: 4.9257, Top-1 Error: 0.9710, Top-5 Error: 0.8872\n",
      "Epoch 2/5\n"
     ]
    },
    {
     "name": "stderr",
     "output_type": "stream",
     "text": [
      "Training: 100%|██████████| 1563/1563 [01:02<00:00, 24.98it/s]\n",
      "Validation: 100%|██████████| 157/157 [00:17<00:00,  9.19it/s]\n"
     ]
    },
    {
     "name": "stdout",
     "output_type": "stream",
     "text": [
      "Validation Loss: 4.6642, Top-1 Error: 0.9466, Top-5 Error: 0.8170\n",
      "Epoch 3/5\n"
     ]
    },
    {
     "name": "stderr",
     "output_type": "stream",
     "text": [
      "Training: 100%|██████████| 1563/1563 [01:03<00:00, 24.60it/s]\n",
      "Validation: 100%|██████████| 157/157 [00:16<00:00,  9.46it/s]\n"
     ]
    },
    {
     "name": "stdout",
     "output_type": "stream",
     "text": [
      "Validation Loss: 4.3980, Top-1 Error: 0.9192, Top-5 Error: 0.7542\n",
      "Epoch 4/5\n"
     ]
    },
    {
     "name": "stderr",
     "output_type": "stream",
     "text": [
      "Training: 100%|██████████| 1563/1563 [01:03<00:00, 24.45it/s]\n",
      "Validation: 100%|██████████| 157/157 [00:17<00:00,  9.07it/s]\n"
     ]
    },
    {
     "name": "stdout",
     "output_type": "stream",
     "text": [
      "Validation Loss: 4.1813, Top-1 Error: 0.8879, Top-5 Error: 0.7014\n",
      "Epoch 5/5\n"
     ]
    },
    {
     "name": "stderr",
     "output_type": "stream",
     "text": [
      "Training: 100%|██████████| 1563/1563 [01:05<00:00, 23.98it/s]\n",
      "Validation: 100%|██████████| 157/157 [00:17<00:00,  8.97it/s]"
     ]
    },
    {
     "name": "stdout",
     "output_type": "stream",
     "text": [
      "Validation Loss: 4.0177, Top-1 Error: 0.8680, Top-5 Error: 0.6602\n"
     ]
    },
    {
     "name": "stderr",
     "output_type": "stream",
     "text": [
      "\n"
     ]
    }
   ],
   "source": [
    "# Train and evaluate\n",
    "results = compare_models(\n",
    "\tmodels=model_definitions,\n",
    "\tmodel_configs=model_configs,\n",
    "\thyperparameters=hyperparameters,\n",
    "\tdata_dir=data_directory,\n",
    "\tnum_epochs=5,\n",
    "\tdevice=device\n",
    ")\n",
    "\n",
    "#* This took 132 minutes on my machine, using device = \"cuda\""
   ]
  },
  {
   "cell_type": "code",
   "execution_count": 9,
   "metadata": {},
   "outputs": [],
   "source": [
    "import time\n",
    "import pandas as pd\n",
    "\n",
    "# Export results to CSV\n",
    "current_time = time.strftime(\"%Y%m%d-%H%M\")\n",
    "results_df = pd.DataFrame(results)\n",
    "results_df.to_csv(f\"./exports/data/regular_models_results_{current_time}.csv\", index=False)"
   ]
  }
 ],
 "metadata": {
  "kernelspec": {
   "display_name": "Python 3",
   "language": "python",
   "name": "python3"
  },
  "language_info": {
   "codemirror_mode": {
    "name": "ipython",
    "version": 3
   },
   "file_extension": ".py",
   "mimetype": "text/x-python",
   "name": "python",
   "nbconvert_exporter": "python",
   "pygments_lexer": "ipython3",
   "version": "3.12.7"
  }
 },
 "nbformat": 4,
 "nbformat_minor": 2
}
